{
 "cells": [
  {
   "cell_type": "code",
   "execution_count": 3,
   "metadata": {},
   "outputs": [],
   "source": [
    "with open('data/songs/寻找独角兽.txt') as file:\n",
    "    content = file.read().splitlines()\n",
    "    \n",
    "file.close()\n",
    "\n",
    "clean_l = [x for x in content if x != '' and 'https' not in x]"
   ]
  },
  {
   "cell_type": "code",
   "execution_count": 4,
   "metadata": {},
   "outputs": [],
   "source": [
    "# Split chinese and english\n",
    "cn_l, en_l = clean_l[::2], clean_l[1::2]"
   ]
  },
  {
   "cell_type": "code",
   "execution_count": 7,
   "metadata": {},
   "outputs": [],
   "source": [
    "# Split tones\n",
    "import string\n",
    "\n",
    "dict_table = str.maketrans('', '', string.digits)\n",
    "clean_en_l = [x.translate(dict_table) for x in en_l]"
   ]
  },
  {
   "cell_type": "code",
   "execution_count": 8,
   "metadata": {},
   "outputs": [
    {
     "name": "stdout",
     "output_type": "stream",
     "text": [
      "树上大鸟 与风神在说话\n",
      "\u001b[32msyu\u001b[39m soeng daai niu jyu fung san zoi syut waa\n",
      "\u001b[31msy\\\u001b[39m\n",
      "地上巨兽 寄居解语花下\n",
      "\u001b[32mdei\u001b[39m soeng geoi sau gei geoi gaai jyu/jyu faa haa\n",
      "\u001b[31m\u001b[39m\n"
     ]
    }
   ],
   "source": [
    "from termcolor import colored\n",
    "\n",
    "red = \"\\033[31m\"\n",
    "green = \"\\033[32m\"\n",
    "reset = \"\\033[39m\"\n",
    "\n",
    "word_book = {}\n",
    "word_info = []\n",
    "\n",
    "for s in range(2):\n",
    "    print(cn_l[s])\n",
    "    \n",
    "    i = input()\n",
    "\n",
    "    correct_cn_w = list(cn_l[s].replace(' ', ''))\n",
    "    correct_words = clean_en_l[s].split(' ')\n",
    "    colored_correct_words = correct_words.copy()\n",
    "    check_words = i.split(' ')\n",
    "\n",
    "    for w in range(len(check_words)):\n",
    "\n",
    "        if (check_words[w] != correct_words[w]) and ('/' not in correct_words[w] or check_words[w] not in correct_words[w].split('/')):\n",
    "            check_words[w] = red + check_words[w] + reset\n",
    "            colored_correct_words[w] = green + correct_words[w] + reset\n",
    "\n",
    "            if correct_cn_w[w] in word_book:\n",
    "                word_book[correct_cn_w[w]][1] += 1\n",
    "            else:\n",
    "                word_book[correct_cn_w[w]] = [correct_words[w], 1]\n",
    "\n",
    "    output_lyrics = ' '.join(check_words)\n",
    "    correct_lyrics = ' '.join(colored_correct_words)    \n",
    "\n",
    "    print(correct_lyrics)\n",
    "    print(output_lyrics)"
   ]
  },
  {
   "cell_type": "code",
   "execution_count": 13,
   "metadata": {},
   "outputs": [],
   "source": [
    "# output json word book to file\n",
    "import json\n",
    "\n",
    "with open('data/new words.json', 'w') as f:\n",
    "    json.dump(word_book, f, indent=4, ensure_ascii=False)\n",
    "\n",
    "f.close()"
   ]
  },
  {
   "cell_type": "code",
   "execution_count": 15,
   "metadata": {},
   "outputs": [
    {
     "data": {
      "text/plain": [
       "{'上': ['soeng', 2], '与': ['jyu', 1]}"
      ]
     },
     "execution_count": 15,
     "metadata": {},
     "output_type": "execute_result"
    }
   ],
   "source": [
    "import pandas as pd\n",
    "\n",
    "# load json word book from file\n",
    "f = open('data/new words.json', 'r')\n",
    "\n",
    "js_wb = json.loads(f.read())\n",
    "js_wb"
   ]
  },
  {
   "cell_type": "code",
   "execution_count": 61,
   "metadata": {},
   "outputs": [
    {
     "data": {
      "text/html": [
       "<div>\n",
       "<style scoped>\n",
       "    .dataframe tbody tr th:only-of-type {\n",
       "        vertical-align: middle;\n",
       "    }\n",
       "\n",
       "    .dataframe tbody tr th {\n",
       "        vertical-align: top;\n",
       "    }\n",
       "\n",
       "    .dataframe thead th {\n",
       "        text-align: right;\n",
       "    }\n",
       "</style>\n",
       "<table border=\"1\" class=\"dataframe\">\n",
       "  <thead>\n",
       "    <tr style=\"text-align: right;\">\n",
       "      <th></th>\n",
       "      <th>Word</th>\n",
       "      <th>Pronunciation</th>\n",
       "      <th>Counts</th>\n",
       "    </tr>\n",
       "  </thead>\n",
       "  <tbody>\n",
       "    <tr>\n",
       "      <th>0</th>\n",
       "      <td>上</td>\n",
       "      <td>soeng</td>\n",
       "      <td>2</td>\n",
       "    </tr>\n",
       "    <tr>\n",
       "      <th>1</th>\n",
       "      <td>与</td>\n",
       "      <td>jyu</td>\n",
       "      <td>1</td>\n",
       "    </tr>\n",
       "  </tbody>\n",
       "</table>\n",
       "</div>"
      ],
      "text/plain": [
       "  Word Pronunciation  Counts\n",
       "0    上         soeng       2\n",
       "1    与           jyu       1"
      ]
     },
     "execution_count": 61,
     "metadata": {},
     "output_type": "execute_result"
    }
   ],
   "source": [
    "# output as dataframe\n",
    "data = [[key] + values for key, values in js_wb.items()]\n",
    "df = pd.DataFrame(data, columns=['Word', 'Pronunciation', 'Counts'])\n",
    "df"
   ]
  },
  {
   "cell_type": "code",
   "execution_count": 20,
   "metadata": {},
   "outputs": [
    {
     "name": "stdout",
     "output_type": "stream",
     "text": [
      "New words book is existing.\n"
     ]
    }
   ],
   "source": [
    "# check existing\n",
    "import os\n",
    "\n",
    "if not os.path.isfile('data/new words.txt'):\n",
    "    open('data/new words.txt', 'a').close()\n",
    "else:\n",
    "    print('New words book is existing.')"
   ]
  },
  {
   "cell_type": "code",
   "execution_count": 24,
   "metadata": {},
   "outputs": [
    {
     "data": {
      "text/plain": [
       "['再见二丁目',\n",
       " '南昌街王子',\n",
       " '爱与诚',\n",
       " '钟无艳',\n",
       " '南瓜车',\n",
       " '爱得太迟',\n",
       " '富士山下',\n",
       " '甜蜜蜜',\n",
       " '我们都是这样长大的',\n",
       " '恋爱大过天',\n",
       " '红绿灯',\n",
       " '寻找独角兽',\n",
       " '一丝不挂',\n",
       " '黄色大门',\n",
       " '你们的幸福',\n",
       " '下一站天后',\n",
       " '饮歌',\n",
       " '年度之歌',\n",
       " '心淡',\n",
       " '简爱',\n",
       " '喜帖街',\n",
       " '灰姑娘',\n",
       " '男孩像你',\n",
       " '千金',\n",
       " '谁愿放手',\n",
       " '勇',\n",
       " '死性不改']"
      ]
     },
     "execution_count": 24,
     "metadata": {},
     "output_type": "execute_result"
    }
   ],
   "source": [
    "# get list of exisitng songs\n",
    "import glob\n",
    "\n",
    "all_f = glob.glob('data/songs/*.txt')\n",
    "all_songs = [x[11:-4] for x in all_f]\n",
    "all_songs"
   ]
  },
  {
   "cell_type": "code",
   "execution_count": 31,
   "metadata": {},
   "outputs": [
    {
     "name": "stdout",
     "output_type": "stream",
     "text": [
      "+-----------------------------------------------------+\n",
      "|                                                     |\n",
      "|          Let's start to learn Cantonese!!!          |\n",
      "|                                                     |\n",
      "+-----------------------------------------------------+\n",
      "\n"
     ]
    }
   ],
   "source": [
    "title_l1 = \"Let's start to learn Cantonese!!!\"\n",
    "\n",
    "game_start = f\"+{'-'*(20+len(title_l1))}+\\n|{' '*(20+len(title_l1))}|\\n|{' '*10}{title_l1}{' '*10}|\\n|{' '*(20+len(title_l1))}|\\n+{'-'*(20+len(title_l1))}+\\n\"\n",
    "print(game_start)"
   ]
  },
  {
   "cell_type": "code",
   "execution_count": 2,
   "metadata": {},
   "outputs": [],
   "source": [
    "for n in range(23):\n",
    "    def print_n(n):\n",
    "        print(n+1) \n",
    "\n"
   ]
  },
  {
   "cell_type": "code",
   "execution_count": 8,
   "metadata": {},
   "outputs": [],
   "source": [
    "import tkinter as tk\n",
    "\n",
    "root = tk.Tk()      \n",
    "\n",
    "root.mainloop()"
   ]
  },
  {
   "cell_type": "code",
   "execution_count": 6,
   "metadata": {},
   "outputs": [],
   "source": [
    "#!/usr/bin/env python3\n",
    "\n",
    "import tkinter as tk\n",
    "from tkinter.font import Font\n",
    "\n",
    "class Pad(tk.Frame):\n",
    "\n",
    "    def __init__(self, parent, *args, **kwargs):\n",
    "        tk.Frame.__init__(self, parent, *args, **kwargs)\n",
    "\n",
    "        self.toolbar = tk.Frame(self, bg=\"#eee\")\n",
    "        self.toolbar.pack(side=\"top\", fill=\"x\")\n",
    "\n",
    "        self.bold_btn = tk.Button(self.toolbar, text=\"Bold\", command=self.make_bold)\n",
    "        self.bold_btn.pack(side=\"left\")\n",
    "\n",
    "        self.clear_btn = tk.Button(self.toolbar, text=\"Clear\", command=self.clear)\n",
    "        self.clear_btn.pack(side=\"left\")\n",
    "\n",
    "        # Creates a bold font\n",
    "        self.bold_font = Font(family=\"Helvetica\", size=14, weight=\"bold\")\n",
    "\n",
    "        self.text = tk.Text(self)\n",
    "        self.text.insert(\"end\", \"Select part of text and then click 'Bold'...\")\n",
    "        self.text.focus()\n",
    "        self.text.pack(fill=\"both\", expand=True)\n",
    "\n",
    "        # configuring a tag called BOLD\n",
    "        self.text.tag_configure(\"BOLD\", font=self.bold_font)\n",
    "\n",
    "    def make_bold(self):\n",
    "        # tk.TclError exception is raised if not text is selected\n",
    "        try:\n",
    "            self.text.tag_add(\"BOLD\", \"sel.first\", \"sel.last\")        \n",
    "        except tk.TclError:\n",
    "            pass\n",
    "\n",
    "    def clear(self):\n",
    "        self.text.tag_remove(\"BOLD\",  \"1.0\", 'end')\n",
    "\n",
    "\n",
    "def demo():\n",
    "    root = tk.Tk()\n",
    "    Pad(root).pack(expand=1, fill=\"both\")\n",
    "    root.mainloop()\n",
    "\n",
    "\n",
    "if __name__ == \"__main__\":\n",
    "    demo()"
   ]
  },
  {
   "cell_type": "code",
   "execution_count": 5,
   "metadata": {},
   "outputs": [],
   "source": [
    "from tkinter import *\n",
    "\n",
    "root = Tk()\n",
    "\n",
    "txt = Text(root)\n",
    "txt.pack()\n",
    "\n",
    "s = ['white', 'white', 'red', 'red', 'white', 'white', 'white', 'white']\n",
    "\n",
    "txt.tag_config('warning', foreground=\"red\")\n",
    "\n",
    "for i in s:\n",
    "    if i == 'white':\n",
    "        txt.insert('insert', f'{i} ')\n",
    "    else:\n",
    "        txt.insert('insert', i, 'warning')\n",
    "        txt.insert('insert', ' ')\n",
    "\n",
    "root.mainloop()"
   ]
  },
  {
   "cell_type": "code",
   "execution_count": 4,
   "metadata": {},
   "outputs": [],
   "source": [
    "from tkinter import *\n",
    "from tkinter import font\n",
    "\n",
    "root = Tk()\n",
    "\n",
    "fontsize = 16\n",
    "\n",
    "def increase_font():\n",
    "    global fontsize\n",
    "    fontsize += 2\n",
    "    textfont.config(size=fontsize)\n",
    "\n",
    "textfont = font.Font(family = \"consolas\" , size = fontsize)\n",
    "# set the width and height of the Text widget to smallest values\n",
    "# and let the layout manager to expand it\n",
    "my_text = Text(root , width=1 , height=1 , font=textfont)\n",
    "my_text.pack(fill=\"both\", expand=1) # fill the parent frame\n",
    "my_text.insert(1.0 , \"There is a problem that use to test if the text widge is fixed. If the line goes to the next line, it will be correct.\")\n",
    "\n",
    "my_button = Button(root , text=\"Increase Font\" , width=13 , font=\"arial 11\" , command=increase_font)\n",
    "my_button.pack(pady=5)\n",
    "\n",
    "mainloop()"
   ]
  },
  {
   "cell_type": "code",
   "execution_count": 10,
   "metadata": {},
   "outputs": [],
   "source": [
    "from tkinter import *\n",
    "wind=Tk()\n",
    "wind.geometry('450x450')\n",
    "l1=Label(wind,text='Did you mean:')\n",
    "l1.pack(side=TOP, anchor=NW)\n",
    "b1=Button(wind,text='Button1',width=450)\n",
    "b1.pack()\n",
    "b2=Button(wind,text='Button2',width=450)\n",
    "b2.pack()\n",
    "wind.mainloop()"
   ]
  }
 ],
 "metadata": {
  "kernelspec": {
   "display_name": "Python 3.9.10 ('base')",
   "language": "python",
   "name": "python3"
  },
  "language_info": {
   "codemirror_mode": {
    "name": "ipython",
    "version": 3
   },
   "file_extension": ".py",
   "mimetype": "text/x-python",
   "name": "python",
   "nbconvert_exporter": "python",
   "pygments_lexer": "ipython3",
   "version": "3.9.10"
  },
  "orig_nbformat": 4,
  "vscode": {
   "interpreter": {
    "hash": "07d59c2e07cffdbb0e861da712a06c3be4298400c4d7d564ce0a05edec008f1b"
   }
  }
 },
 "nbformat": 4,
 "nbformat_minor": 2
}
