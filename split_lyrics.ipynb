{
 "cells": [
  {
   "cell_type": "code",
   "execution_count": 1,
   "metadata": {},
   "outputs": [],
   "source": [
    "with open('data/songs/寻找独角兽.txt') as file:\n",
    "    content = file.read().splitlines()\n",
    "    \n",
    "file.close()\n",
    "\n",
    "clean_l = [x for x in content if x != '' and 'https' not in x]"
   ]
  },
  {
   "cell_type": "code",
   "execution_count": 10,
   "metadata": {},
   "outputs": [],
   "source": [
    "# Split chinese and english\n",
    "cn_l, en_l = clean_l[::2], clean_l[1::2]"
   ]
  },
  {
   "cell_type": "code",
   "execution_count": 9,
   "metadata": {},
   "outputs": [
    {
     "data": {
      "text/plain": [
       "[('树上大鸟 与风神在说话', 'syu6 soeng56 daai6 niu5 jyu5 fung1 san4 zoi6 syut3 waa6'),\n",
       " ('地上巨兽 寄居解语花下',\n",
       "  'dei6 soeng56 geoi6 sau3 gei3 geoi1 gaai2 jyu5/jyu6 faa1 haa6'),\n",
       " ('怪兽 四出 冒险 找个他', 'gwaai3 sau3 sei3 ceot1 mou6 him2 zaau2 go3 taa1'),\n",
       " ('我也 参加 找我心中 那白马',\n",
       "  'ngo5 jaa5 caam1 gaa1 zaau2 ngo5 sam1 zung1 naa5 baak6 maa5'),\n",
       " ('落下大雪 约火龙热舞吧', 'lok6 haa6 daai6 syut3 joek3 fo2 lung4 jit6 mou5 baa6'),\n",
       " ('但是没法 与他撑到初夏', 'daan6 si6 mut6 faat3 jyu5 taa1 caang1 dou3 co1 haa6'),\n",
       " ('再怪 那位 亦想 找个家', 'zoi3 gwaai3 naa5 wai6 jik6 soeng2 zaau2 go3 gaa1'),\n",
       " ('得我 孤身 搬进仙境 都可怕', 'dak1 ngo5 gu1 san1 bun1 zeon3 sin1 ging2 dou1 ho2 paa3'),\n",
       " ('我信某处定有他 我信空想创造神话',\n",
       "  'ngo5 seon3 mau5 cyu35 ding6 jau5 taa1 ngo5 seon3 hung1 soeng2 cong1/cong3 zou6 san4 waa6'),\n",
       " ('独角兽也会找得到', 'duk6 gok3 sau3 jaa5 wui zaau2 dak1 dou3'),\n",
       " ('只不过兜兜转 才碰见吧', 'zi2 bat1 gwo3 dau1 dau1 zyun2/zyun3 coi4 pung3 gin3 baa6'),\n",
       " ('谁说这世界没有他 我要亲手创造神话',\n",
       "  'seoi4 syut3 ze5 sai3 gaai3 mut6 jau5 taa1 ngo5 jiu3 can1 sau2 cong1/cong3 zou6 san4 waa6'),\n",
       " ('在结尾我会很快乐 路上虽有风沙',\n",
       "  'zoi6 git3 mei5 ngo5 wui han2 faai3 lok6/ngok6 lou6 soeng56 seoi1 jau5 fung1 saa1'),\n",
       " ('人鱼却唱着 不用怕', 'jan4 jyu4 koek3 coeng3 zoek6/ bat1 jung6 paa3'),\n",
       " ('顺着瀑布 与精灵在散步',\n",
       "  'seon6 zoek6/ buk6 bou3 jyu5 zing1 ling4 zoi6 saan2/saan3 bou6'),\n",
       " ('逐段逐吋 去数 走过多少路',\n",
       "  'zuk6 dyun6 zuk6 cyun3 heoi3 sou2/sou3 zau2 gwo3 do1 siu23 lou6'),\n",
       " ('哪里 会碰见他 无需 河童预告',\n",
       "  'naa5 leoi5 wui pung3 gin3 taa1 mou4 seoi1 ho4 tung4 jyu6 gou3'),\n",
       " ('真相 再灰 都可以空想 我未老',\n",
       "  'zan1 soeng13 zoi3 fui1 dou1 ho2 ji5 hung1 soeng2 ngo5 mei6 lou5'),\n",
       " ('我信某处定有他 我信空想创造神话',\n",
       "  'ngo5 seon3 mau5 cyu35 ding6 jau5 taa1 ngo5 seon3 hung1 soeng2 cong1/cong3 zou6 san4 waa6'),\n",
       " ('独角兽也会找得到', 'duk6 gok3 sau3 jaa5 wui zaau2 dak1 dou3'),\n",
       " ('只不过兜兜转 才碰见吧', 'zi2 bat1 gwo3 dau1 dau1 zyun2/zyun3 coi4 pung3 gin3 baa6'),\n",
       " ('谁说这世界没有他 我要亲手创造神话',\n",
       "  'seoi4 syut3 ze5 sai3 gaai3 mut6 jau5 taa1 ngo5 jiu3 can1 sau2 cong1/cong3 zou6 san4 waa6'),\n",
       " ('在结尾我会很快乐 伴着所爱归家',\n",
       "  'zoi6 git3 mei5 ngo5 wui han2 faai3 lok6/ngok6 bun6 zoek6/ so2 oi3 gwai1 gaa1'),\n",
       " ('床前说故事 不用怕', 'cong4 cin4 syut3 gu3 si6 bat1 jung6 paa3')]"
      ]
     },
     "execution_count": 9,
     "metadata": {},
     "output_type": "execute_result"
    }
   ],
   "source": [
    "[x for x in zip(clean_l[0::2], clean_l[1::2])]"
   ]
  },
  {
   "cell_type": "code",
   "execution_count": 13,
   "metadata": {},
   "outputs": [
    {
     "name": "stdout",
     "output_type": "stream",
     "text": [
      "树上大鸟 与风神在说话\n",
      "syu6 soeng56 daai6 niu5 jyu5 fung1 san4 zoi6 syut3 waa6\n",
      "\n",
      "地上巨兽 寄居解语花下\n",
      "dei6 soeng56 geoi6 sau3 gei3 geoi1 gaai2 jyu5/jyu6 faa1 haa6\n",
      "\n",
      "怪兽 四出 冒险 找个他\n",
      "gwaai3 sau3 sei3 ceot1 mou6 him2 zaau2 go3 taa1\n",
      "\n",
      "我也 参加 找我心中 那白马\n",
      "ngo5 jaa5 caam1 gaa1 zaau2 ngo5 sam1 zung1 naa5 baak6 maa5\n",
      "\n",
      "落下大雪 约火龙热舞吧\n",
      "lok6 haa6 daai6 syut3 joek3 fo2 lung4 jit6 mou5 baa6\n",
      "\n",
      "但是没法 与他撑到初夏\n",
      "daan6 si6 mut6 faat3 jyu5 taa1 caang1 dou3 co1 haa6\n",
      "\n",
      "再怪 那位 亦想 找个家\n",
      "zoi3 gwaai3 naa5 wai6 jik6 soeng2 zaau2 go3 gaa1\n",
      "\n",
      "得我 孤身 搬进仙境 都可怕\n",
      "dak1 ngo5 gu1 san1 bun1 zeon3 sin1 ging2 dou1 ho2 paa3\n",
      "\n",
      "我信某处定有他 我信空想创造神话\n",
      "ngo5 seon3 mau5 cyu35 ding6 jau5 taa1 ngo5 seon3 hung1 soeng2 cong1/cong3 zou6 san4 waa6\n",
      "\n",
      "独角兽也会找得到\n",
      "duk6 gok3 sau3 jaa5 wui zaau2 dak1 dou3\n",
      "\n",
      "只不过兜兜转 才碰见吧\n",
      "zi2 bat1 gwo3 dau1 dau1 zyun2/zyun3 coi4 pung3 gin3 baa6\n",
      "\n",
      "谁说这世界没有他 我要亲手创造神话\n",
      "seoi4 syut3 ze5 sai3 gaai3 mut6 jau5 taa1 ngo5 jiu3 can1 sau2 cong1/cong3 zou6 san4 waa6\n",
      "\n",
      "在结尾我会很快乐 路上虽有风沙\n",
      "zoi6 git3 mei5 ngo5 wui han2 faai3 lok6/ngok6 lou6 soeng56 seoi1 jau5 fung1 saa1\n",
      "\n",
      "人鱼却唱着 不用怕\n",
      "jan4 jyu4 koek3 coeng3 zoek6/ bat1 jung6 paa3\n",
      "\n",
      "顺着瀑布 与精灵在散步\n",
      "seon6 zoek6/ buk6 bou3 jyu5 zing1 ling4 zoi6 saan2/saan3 bou6\n",
      "\n",
      "逐段逐吋 去数 走过多少路\n",
      "zuk6 dyun6 zuk6 cyun3 heoi3 sou2/sou3 zau2 gwo3 do1 siu23 lou6\n",
      "\n",
      "哪里 会碰见他 无需 河童预告\n",
      "naa5 leoi5 wui pung3 gin3 taa1 mou4 seoi1 ho4 tung4 jyu6 gou3\n",
      "\n",
      "真相 再灰 都可以空想 我未老\n",
      "zan1 soeng13 zoi3 fui1 dou1 ho2 ji5 hung1 soeng2 ngo5 mei6 lou5\n",
      "\n",
      "我信某处定有他 我信空想创造神话\n",
      "ngo5 seon3 mau5 cyu35 ding6 jau5 taa1 ngo5 seon3 hung1 soeng2 cong1/cong3 zou6 san4 waa6\n",
      "\n",
      "独角兽也会找得到\n",
      "duk6 gok3 sau3 jaa5 wui zaau2 dak1 dou3\n",
      "\n",
      "只不过兜兜转 才碰见吧\n",
      "zi2 bat1 gwo3 dau1 dau1 zyun2/zyun3 coi4 pung3 gin3 baa6\n",
      "\n",
      "谁说这世界没有他 我要亲手创造神话\n",
      "seoi4 syut3 ze5 sai3 gaai3 mut6 jau5 taa1 ngo5 jiu3 can1 sau2 cong1/cong3 zou6 san4 waa6\n",
      "\n",
      "在结尾我会很快乐 伴着所爱归家\n",
      "zoi6 git3 mei5 ngo5 wui han2 faai3 lok6/ngok6 bun6 zoek6/ so2 oi3 gwai1 gaa1\n",
      "\n",
      "床前说故事 不用怕\n",
      "cong4 cin4 syut3 gu3 si6 bat1 jung6 paa3\n"
     ]
    }
   ],
   "source": [
    "print('\\n\\n'.join(['\\n'.join(x) for x in zip(clean_l[0::2], clean_l[1::2])]))"
   ]
  },
  {
   "cell_type": "code",
   "execution_count": 11,
   "metadata": {},
   "outputs": [],
   "source": [
    "# Split tones\n",
    "import string\n",
    "\n",
    "dict_table = str.maketrans('', '', string.digits)\n",
    "clean_en_l = [x.translate(dict_table) for x in en_l]"
   ]
  },
  {
   "cell_type": "code",
   "execution_count": 12,
   "metadata": {},
   "outputs": [
    {
     "name": "stdout",
     "output_type": "stream",
     "text": [
      "树上大鸟 与风神在说话\n",
      "syu \u001b[32msoeng\u001b[39m daai niu \u001b[32mjyu\u001b[39m fung san zoi syut waa\n",
      "syu \u001b[31msong\u001b[39m daai niu \u001b[31m\u001b[39m\n",
      "地上巨兽 寄居解语花下\n",
      "dei \u001b[32msoeng\u001b[39m geoi sau gei geoi gaai jyu/jyu faa haa\n",
      "dei \u001b[31msong\u001b[39m geoi sau\n"
     ]
    }
   ],
   "source": [
    "from termcolor import colored\n",
    "\n",
    "red = \"\\033[31m\"\n",
    "green = \"\\033[32m\"\n",
    "reset = \"\\033[39m\"\n",
    "\n",
    "word_book = {}\n",
    "word_info = []\n",
    "\n",
    "for s in range(2):\n",
    "    print(cn_l[s])\n",
    "    i = input()\n",
    "\n",
    "    correct_cn_w = list(cn_l[s].replace(' ', ''))\n",
    "    correct_words = clean_en_l[s].split(' ')\n",
    "    colored_correct_words = correct_words.copy()\n",
    "    check_words = i.split(' ')\n",
    "\n",
    "    for w in range(len(check_words)):\n",
    "\n",
    "        if (check_words[w] != correct_words[w]) and ('/' not in correct_words[w] or check_words[w] not in correct_words[w].split('/')):\n",
    "            check_words[w] = red + check_words[w] + reset\n",
    "            colored_correct_words[w] = green + correct_words[w] + reset\n",
    "\n",
    "            if correct_cn_w[w] in word_book:\n",
    "                word_book[correct_cn_w[w]][1] += 1\n",
    "            else:\n",
    "                word_book[correct_cn_w[w]] = [correct_words[w], 1]\n",
    "\n",
    "    output_lyrics = ' '.join(check_words)\n",
    "    correct_lyrics = ' '.join(colored_correct_words)    \n",
    "\n",
    "    print(correct_lyrics)\n",
    "    print(output_lyrics)"
   ]
  },
  {
   "cell_type": "code",
   "execution_count": 13,
   "metadata": {},
   "outputs": [],
   "source": [
    "# output json word book to file\n",
    "import json\n",
    "\n",
    "with open('data/new words.json', 'w') as f:\n",
    "    json.dump(word_book, f, indent=4, ensure_ascii=False)\n",
    "\n",
    "f.close()"
   ]
  },
  {
   "cell_type": "code",
   "execution_count": 15,
   "metadata": {},
   "outputs": [
    {
     "data": {
      "text/plain": [
       "{'上': ['soeng', 2], '与': ['jyu', 1]}"
      ]
     },
     "execution_count": 15,
     "metadata": {},
     "output_type": "execute_result"
    }
   ],
   "source": [
    "import pandas as pd\n",
    "\n",
    "# load json word book from file\n",
    "f = open('data/new words.json', 'r')\n",
    "\n",
    "js_wb = json.loads(f.read())\n",
    "js_wb"
   ]
  },
  {
   "cell_type": "code",
   "execution_count": 61,
   "metadata": {},
   "outputs": [
    {
     "data": {
      "text/html": [
       "<div>\n",
       "<style scoped>\n",
       "    .dataframe tbody tr th:only-of-type {\n",
       "        vertical-align: middle;\n",
       "    }\n",
       "\n",
       "    .dataframe tbody tr th {\n",
       "        vertical-align: top;\n",
       "    }\n",
       "\n",
       "    .dataframe thead th {\n",
       "        text-align: right;\n",
       "    }\n",
       "</style>\n",
       "<table border=\"1\" class=\"dataframe\">\n",
       "  <thead>\n",
       "    <tr style=\"text-align: right;\">\n",
       "      <th></th>\n",
       "      <th>Word</th>\n",
       "      <th>Pronunciation</th>\n",
       "      <th>Counts</th>\n",
       "    </tr>\n",
       "  </thead>\n",
       "  <tbody>\n",
       "    <tr>\n",
       "      <th>0</th>\n",
       "      <td>上</td>\n",
       "      <td>soeng</td>\n",
       "      <td>2</td>\n",
       "    </tr>\n",
       "    <tr>\n",
       "      <th>1</th>\n",
       "      <td>与</td>\n",
       "      <td>jyu</td>\n",
       "      <td>1</td>\n",
       "    </tr>\n",
       "  </tbody>\n",
       "</table>\n",
       "</div>"
      ],
      "text/plain": [
       "  Word Pronunciation  Counts\n",
       "0    上         soeng       2\n",
       "1    与           jyu       1"
      ]
     },
     "execution_count": 61,
     "metadata": {},
     "output_type": "execute_result"
    }
   ],
   "source": [
    "# output as dataframe\n",
    "data = [[key] + values for key, values in js_wb.items()]\n",
    "df = pd.DataFrame(data, columns=['Word', 'Pronunciation', 'Counts'])\n",
    "df"
   ]
  },
  {
   "cell_type": "code",
   "execution_count": 20,
   "metadata": {},
   "outputs": [
    {
     "name": "stdout",
     "output_type": "stream",
     "text": [
      "New words book is existing.\n"
     ]
    }
   ],
   "source": [
    "# check existing\n",
    "import os\n",
    "\n",
    "if not os.path.isfile('data/new words.txt'):\n",
    "    open('data/new words.txt', 'a').close()\n",
    "else:\n",
    "    print('New words book is existing.')"
   ]
  },
  {
   "cell_type": "code",
   "execution_count": 24,
   "metadata": {},
   "outputs": [
    {
     "data": {
      "text/plain": [
       "['再见二丁目',\n",
       " '南昌街王子',\n",
       " '爱与诚',\n",
       " '钟无艳',\n",
       " '南瓜车',\n",
       " '爱得太迟',\n",
       " '富士山下',\n",
       " '甜蜜蜜',\n",
       " '我们都是这样长大的',\n",
       " '恋爱大过天',\n",
       " '红绿灯',\n",
       " '寻找独角兽',\n",
       " '一丝不挂',\n",
       " '黄色大门',\n",
       " '你们的幸福',\n",
       " '下一站天后',\n",
       " '饮歌',\n",
       " '年度之歌',\n",
       " '心淡',\n",
       " '简爱',\n",
       " '喜帖街',\n",
       " '灰姑娘',\n",
       " '男孩像你',\n",
       " '千金',\n",
       " '谁愿放手',\n",
       " '勇',\n",
       " '死性不改']"
      ]
     },
     "execution_count": 24,
     "metadata": {},
     "output_type": "execute_result"
    }
   ],
   "source": [
    "# get list of exisitng songs\n",
    "import glob\n",
    "\n",
    "all_f = glob.glob('data/songs/*.txt')\n",
    "all_songs = [x[11:-4] for x in all_f]\n",
    "all_songs"
   ]
  },
  {
   "cell_type": "code",
   "execution_count": 31,
   "metadata": {},
   "outputs": [
    {
     "name": "stdout",
     "output_type": "stream",
     "text": [
      "+-----------------------------------------------------+\n",
      "|                                                     |\n",
      "|          Let's start to learn Cantonese!!!          |\n",
      "|                                                     |\n",
      "+-----------------------------------------------------+\n",
      "\n"
     ]
    }
   ],
   "source": [
    "title_l1 = \"Let's start to learn Cantonese!!!\"\n",
    "\n",
    "game_start = f\"+{'-'*(20+len(title_l1))}+\\n|{' '*(20+len(title_l1))}|\\n|{' '*10}{title_l1}{' '*10}|\\n|{' '*(20+len(title_l1))}|\\n+{'-'*(20+len(title_l1))}+\\n\"\n",
    "print(game_start)"
   ]
  }
 ],
 "metadata": {
  "kernelspec": {
   "display_name": "Python 3.9.10 ('base')",
   "language": "python",
   "name": "python3"
  },
  "language_info": {
   "codemirror_mode": {
    "name": "ipython",
    "version": 3
   },
   "file_extension": ".py",
   "mimetype": "text/x-python",
   "name": "python",
   "nbconvert_exporter": "python",
   "pygments_lexer": "ipython3",
   "version": "3.9.10"
  },
  "orig_nbformat": 4,
  "vscode": {
   "interpreter": {
    "hash": "07d59c2e07cffdbb0e861da712a06c3be4298400c4d7d564ce0a05edec008f1b"
   }
  }
 },
 "nbformat": 4,
 "nbformat_minor": 2
}
