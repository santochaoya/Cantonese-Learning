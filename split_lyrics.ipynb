{
 "cells": [
  {
   "cell_type": "code",
   "execution_count": 3,
   "metadata": {},
   "outputs": [],
   "source": [
    "with open('data/songs/寻找独角兽.txt') as file:\n",
    "    content = file.read().splitlines()\n",
    "    \n",
    "file.close()\n",
    "\n",
    "clean_l = [x for x in content if x != '' and 'https' not in x]"
   ]
  },
  {
   "cell_type": "code",
   "execution_count": 4,
   "metadata": {},
   "outputs": [],
   "source": [
    "# Split chinese and english\n",
    "cn_l, en_l = clean_l[::2], clean_l[1::2]"
   ]
  },
  {
   "cell_type": "code",
   "execution_count": 7,
   "metadata": {},
   "outputs": [],
   "source": [
    "# Split tones\n",
    "import string\n",
    "\n",
    "dict_table = str.maketrans('', '', string.digits)\n",
    "clean_en_l = [x.translate(dict_table) for x in en_l]"
   ]
  },
  {
   "cell_type": "code",
   "execution_count": 8,
   "metadata": {},
   "outputs": [
    {
     "name": "stdout",
     "output_type": "stream",
     "text": [
      "树上大鸟 与风神在说话\n",
      "\u001b[32msyu\u001b[39m soeng daai niu jyu fung san zoi syut waa\n",
      "\u001b[31msy\\\u001b[39m\n",
      "地上巨兽 寄居解语花下\n",
      "\u001b[32mdei\u001b[39m soeng geoi sau gei geoi gaai jyu/jyu faa haa\n",
      "\u001b[31m\u001b[39m\n"
     ]
    }
   ],
   "source": [
    "from termcolor import colored\n",
    "\n",
    "red = \"\\033[31m\"\n",
    "green = \"\\033[32m\"\n",
    "reset = \"\\033[39m\"\n",
    "\n",
    "word_book = {}\n",
    "word_info = []\n",
    "\n",
    "for s in range(2):\n",
    "    print(cn_l[s])\n",
    "    \n",
    "    i = input()\n",
    "\n",
    "    correct_cn_w = list(cn_l[s].replace(' ', ''))\n",
    "    correct_words = clean_en_l[s].split(' ')\n",
    "    colored_correct_words = correct_words.copy()\n",
    "    check_words = i.split(' ')\n",
    "\n",
    "    for w in range(len(check_words)):\n",
    "\n",
    "        if (check_words[w] != correct_words[w]) and ('/' not in correct_words[w] or check_words[w] not in correct_words[w].split('/')):\n",
    "            check_words[w] = red + check_words[w] + reset\n",
    "            colored_correct_words[w] = green + correct_words[w] + reset\n",
    "\n",
    "            if correct_cn_w[w] in word_book:\n",
    "                word_book[correct_cn_w[w]][1] += 1\n",
    "            else:\n",
    "                word_book[correct_cn_w[w]] = [correct_words[w], 1]\n",
    "\n",
    "    output_lyrics = ' '.join(check_words)\n",
    "    correct_lyrics = ' '.join(colored_correct_words)    \n",
    "\n",
    "    print(correct_lyrics)\n",
    "    print(output_lyrics)"
   ]
  },
  {
   "cell_type": "code",
   "execution_count": 13,
   "metadata": {},
   "outputs": [],
   "source": [
    "# output json word book to file\n",
    "import json\n",
    "\n",
    "with open('data/new words.json', 'w') as f:\n",
    "    json.dump(word_book, f, indent=4, ensure_ascii=False)\n",
    "\n",
    "f.close()"
   ]
  },
  {
   "cell_type": "code",
   "execution_count": 15,
   "metadata": {},
   "outputs": [
    {
     "data": {
      "text/plain": [
       "{'上': ['soeng', 2], '与': ['jyu', 1]}"
      ]
     },
     "execution_count": 15,
     "metadata": {},
     "output_type": "execute_result"
    }
   ],
   "source": [
    "import pandas as pd\n",
    "\n",
    "# load json word book from file\n",
    "f = open('data/new words.json', 'r')\n",
    "\n",
    "js_wb = json.loads(f.read())\n",
    "js_wb"
   ]
  },
  {
   "cell_type": "code",
   "execution_count": 61,
   "metadata": {},
   "outputs": [
    {
     "data": {
      "text/html": [
       "<div>\n",
       "<style scoped>\n",
       "    .dataframe tbody tr th:only-of-type {\n",
       "        vertical-align: middle;\n",
       "    }\n",
       "\n",
       "    .dataframe tbody tr th {\n",
       "        vertical-align: top;\n",
       "    }\n",
       "\n",
       "    .dataframe thead th {\n",
       "        text-align: right;\n",
       "    }\n",
       "</style>\n",
       "<table border=\"1\" class=\"dataframe\">\n",
       "  <thead>\n",
       "    <tr style=\"text-align: right;\">\n",
       "      <th></th>\n",
       "      <th>Word</th>\n",
       "      <th>Pronunciation</th>\n",
       "      <th>Counts</th>\n",
       "    </tr>\n",
       "  </thead>\n",
       "  <tbody>\n",
       "    <tr>\n",
       "      <th>0</th>\n",
       "      <td>上</td>\n",
       "      <td>soeng</td>\n",
       "      <td>2</td>\n",
       "    </tr>\n",
       "    <tr>\n",
       "      <th>1</th>\n",
       "      <td>与</td>\n",
       "      <td>jyu</td>\n",
       "      <td>1</td>\n",
       "    </tr>\n",
       "  </tbody>\n",
       "</table>\n",
       "</div>"
      ],
      "text/plain": [
       "  Word Pronunciation  Counts\n",
       "0    上         soeng       2\n",
       "1    与           jyu       1"
      ]
     },
     "execution_count": 61,
     "metadata": {},
     "output_type": "execute_result"
    }
   ],
   "source": [
    "# output as dataframe\n",
    "data = [[key] + values for key, values in js_wb.items()]\n",
    "df = pd.DataFrame(data, columns=['Word', 'Pronunciation', 'Counts'])\n",
    "df"
   ]
  },
  {
   "cell_type": "code",
   "execution_count": 20,
   "metadata": {},
   "outputs": [
    {
     "name": "stdout",
     "output_type": "stream",
     "text": [
      "New words book is existing.\n"
     ]
    }
   ],
   "source": [
    "# check existing\n",
    "import os\n",
    "\n",
    "if not os.path.isfile('data/new words.txt'):\n",
    "    open('data/new words.txt', 'a').close()\n",
    "else:\n",
    "    print('New words book is existing.')"
   ]
  },
  {
   "cell_type": "code",
   "execution_count": 24,
   "metadata": {},
   "outputs": [
    {
     "data": {
      "text/plain": [
       "['再见二丁目',\n",
       " '南昌街王子',\n",
       " '爱与诚',\n",
       " '钟无艳',\n",
       " '南瓜车',\n",
       " '爱得太迟',\n",
       " '富士山下',\n",
       " '甜蜜蜜',\n",
       " '我们都是这样长大的',\n",
       " '恋爱大过天',\n",
       " '红绿灯',\n",
       " '寻找独角兽',\n",
       " '一丝不挂',\n",
       " '黄色大门',\n",
       " '你们的幸福',\n",
       " '下一站天后',\n",
       " '饮歌',\n",
       " '年度之歌',\n",
       " '心淡',\n",
       " '简爱',\n",
       " '喜帖街',\n",
       " '灰姑娘',\n",
       " '男孩像你',\n",
       " '千金',\n",
       " '谁愿放手',\n",
       " '勇',\n",
       " '死性不改']"
      ]
     },
     "execution_count": 24,
     "metadata": {},
     "output_type": "execute_result"
    }
   ],
   "source": [
    "# get list of exisitng songs\n",
    "import glob\n",
    "\n",
    "all_f = glob.glob('data/songs/*.txt')\n",
    "all_songs = [x[11:-4] for x in all_f]\n",
    "all_songs"
   ]
  },
  {
   "cell_type": "code",
   "execution_count": 31,
   "metadata": {},
   "outputs": [
    {
     "name": "stdout",
     "output_type": "stream",
     "text": [
      "+-----------------------------------------------------+\n",
      "|                                                     |\n",
      "|          Let's start to learn Cantonese!!!          |\n",
      "|                                                     |\n",
      "+-----------------------------------------------------+\n",
      "\n"
     ]
    }
   ],
   "source": [
    "title_l1 = \"Let's start to learn Cantonese!!!\"\n",
    "\n",
    "game_start = f\"+{'-'*(20+len(title_l1))}+\\n|{' '*(20+len(title_l1))}|\\n|{' '*10}{title_l1}{' '*10}|\\n|{' '*(20+len(title_l1))}|\\n+{'-'*(20+len(title_l1))}+\\n\"\n",
    "print(game_start)"
   ]
  },
  {
   "cell_type": "code",
   "execution_count": 42,
   "metadata": {},
   "outputs": [
    {
     "data": {
      "text/plain": [
       "'this is a text for finding multiple spaces'"
      ]
     },
     "execution_count": 42,
     "metadata": {},
     "output_type": "execute_result"
    }
   ],
   "source": [
    "# remove redundent spaces\n",
    "import re\n",
    "s = '   this is a text for     finding   multiple spaces'\n",
    "re.sub('\\s+', ' ', s).lstrip()\n"
   ]
  },
  {
   "cell_type": "code",
   "execution_count": 49,
   "metadata": {},
   "outputs": [
    {
     "data": {
      "text/plain": [
       "{'分': ['fan/fan', 1, 1],\n",
       " '足': ['zuk', 2],\n",
       " '班': ['baan', 2],\n",
       " '三': ['saam', 2],\n",
       " '吃': ['hek', 2],\n",
       " '餐': ['caan', 1],\n",
       " '七': ['cat', 2],\n",
       " '灯': ['dang', 2],\n",
       " '饰': ['sik', 1],\n",
       " '璀': ['ceoi/ceoi', 1],\n",
       " '璨': ['caan', 2],\n",
       " '嫌': ['jim', 1],\n",
       " '暂': ['zaam', 2],\n",
       " '处': ['cyu', 1],\n",
       " '理': ['lei', 1],\n",
       " '占': ['zim', 1],\n",
       " '臂': ['bei', 1],\n",
       " '偷': ['tau', 2],\n",
       " '懒': ['laan', 1],\n",
       " '钟': ['zung', 1],\n",
       " '够': ['gau', 1],\n",
       " '送': ['sung', 1],\n",
       " '你': ['nei', 1],\n",
       " '上': ['soeng', 1],\n",
       " '留': ['lau', 1],\n",
       " '拍': ['paak', 1],\n",
       " '过': ['gwo', 1],\n",
       " '拖': ['to', 1],\n",
       " '算': ['syun', 2],\n",
       " '道': ['dou', 1],\n",
       " '求': ['kau', 1],\n",
       " '必': ['bit', 1],\n",
       " '管': ['gun', 1],\n",
       " '错': ['co/cok', 1],\n",
       " '若': ['joek', 1],\n",
       " '珍': ['zan', 1],\n",
       " '曾': ['cang', 1],\n",
       " '还': ['waan', 1],\n",
       " '用': ['jung', 1],\n",
       " '凭': ['pang', 1],\n",
       " '真': ['zan', 1],\n",
       " '假': ['gaa/gaa', 1],\n",
       " '计': ['gai', 1],\n",
       " '么': ['mo', 1]}"
      ]
     },
     "execution_count": 49,
     "metadata": {},
     "output_type": "execute_result"
    }
   ],
   "source": [
    "import learnCantonese as lc\n",
    "W_DIR = 'data/new words.json'\n",
    "\n",
    "new_w = dict(lc.read_new_words(W_DIR).items())\n",
    "new_w_list = [f'{i[0]}: {i[1][0]}' for i in new_w.items()]\n",
    "\n",
    "new_w[new_w_list[0].split(':')[0]].append(1)\n",
    "\n",
    "new_w"
   ]
  },
  {
   "cell_type": "markdown",
   "metadata": {},
   "source": [
    "### tkinter"
   ]
  },
  {
   "cell_type": "markdown",
   "metadata": {},
   "source": [
    "#### Practise"
   ]
  },
  {
   "cell_type": "code",
   "execution_count": 3,
   "metadata": {},
   "outputs": [
    {
     "ename": "",
     "evalue": "",
     "output_type": "error",
     "traceback": [
      "\u001b[1;31mThe Kernel crashed while executing code in the the current cell or a previous cell. Please review the code in the cell(s) to identify a possible cause of the failure. Click <a href='https://aka.ms/vscodeJupyterKernelCrash'>here</a> for more info. View Jupyter <a href='command:jupyter.viewOutput'>log</a> for further details."
     ]
    },
    {
     "ename": "",
     "evalue": "",
     "output_type": "error",
     "traceback": [
      "\u001b[1;31mCanceled future for execute_request message before replies were done"
     ]
    }
   ],
   "source": [
    "#!/usr/bin/env python3\n",
    "\n",
    "import tkinter as tk\n",
    "from tkinter.font import Font\n",
    "\n",
    "class Pad(tk.Frame):\n",
    "\n",
    "    def __init__(self, parent, *args, **kwargs):\n",
    "        tk.Frame.__init__(self, parent, *args, **kwargs)\n",
    "\n",
    "        self.toolbar = tk.Frame(self, bg=\"#eee\")\n",
    "        self.toolbar.pack(side=\"top\", fill=\"x\")\n",
    "\n",
    "        self.bold_btn = tk.Button(self.toolbar, text=\"Bold\", command=self.make_bold)\n",
    "        self.bold_btn.pack(side=\"left\")\n",
    "\n",
    "        self.clear_btn = tk.Button(self.toolbar, text=\"Clear\", command=self.clear)\n",
    "        self.clear_btn.pack(side=\"left\")\n",
    "\n",
    "        # Creates a bold font\n",
    "        self.bold_font = Font(family=\"Helvetica\", size=14, weight=\"bold\")\n",
    "\n",
    "        self.text = tk.Text(self)\n",
    "        self.text.insert(\"end\", \"Select part of text and then click 'Bold'...\")\n",
    "        self.text.focus()\n",
    "        self.text.pack(fill=\"both\", expand=True)\n",
    "\n",
    "        # configuring a tag called BOLD\n",
    "        self.text.tag_configure(\"BOLD\", font=self.bold_font)\n",
    "\n",
    "    def make_bold(self):\n",
    "        # tk.TclError exception is raised if not text is selected\n",
    "        try:\n",
    "            self.text.tag_add(\"BOLD\", \"sel.first\", \"sel.last\")        \n",
    "        except tk.TclError:\n",
    "            pass\n",
    "\n",
    "    def clear(self):\n",
    "        self.text.tag_remove(\"BOLD\",  \"1.0\", 'end')\n",
    "\n",
    "\n",
    "def demo():\n",
    "    root = tk.Tk()\n",
    "    Pad(root).pack(expand=1, fill=\"both\")\n",
    "    root.mainloop()\n",
    "\n",
    "\n",
    "if __name__ == \"__main__\":\n",
    "    demo()"
   ]
  },
  {
   "cell_type": "code",
   "execution_count": 5,
   "metadata": {},
   "outputs": [],
   "source": [
    "from tkinter import *\n",
    "\n",
    "root = Tk()\n",
    "\n",
    "txt = Text(root)\n",
    "txt.pack()\n",
    "\n",
    "s = ['white', 'white', 'red', 'red', 'white', 'white', 'white', 'white']\n",
    "\n",
    "txt.tag_config('warning', foreground=\"red\")\n",
    "\n",
    "for i in s:\n",
    "    if i == 'white':\n",
    "        txt.insert('insert', f'{i} ')\n",
    "    else:\n",
    "        txt.insert('insert', i, 'warning')\n",
    "        txt.insert('insert', ' ')\n",
    "\n",
    "root.mainloop()"
   ]
  },
  {
   "cell_type": "code",
   "execution_count": 1,
   "metadata": {},
   "outputs": [
    {
     "ename": "",
     "evalue": "",
     "output_type": "error",
     "traceback": [
      "\u001b[1;31mThe Kernel crashed while executing code in the the current cell or a previous cell. Please review the code in the cell(s) to identify a possible cause of the failure. Click <a href='https://aka.ms/vscodeJupyterKernelCrash'>here</a> for more info. View Jupyter <a href='command:jupyter.viewOutput'>log</a> for further details."
     ]
    },
    {
     "ename": "",
     "evalue": "",
     "output_type": "error",
     "traceback": [
      "\u001b[1;31mCanceled future for execute_request message before replies were done"
     ]
    }
   ],
   "source": [
    "from tkinter import *\n",
    "from tkinter import font\n",
    "\n",
    "root = Tk()\n",
    "\n",
    "fontsize = 16\n",
    "\n",
    "def increase_font():\n",
    "    global fontsize\n",
    "    fontsize += 2\n",
    "    textfont.config(size=fontsize)\n",
    "\n",
    "textfont = font.Font(family = \"consolas\" , size = fontsize)\n",
    "# set the width and height of the Text widget to smallest values\n",
    "# and let the layout manager to expand it\n",
    "my_text = Text(root , width=1 , height=1 , font=textfont)\n",
    "my_text.pack(fill=\"both\", expand=1) # fill the parent frame\n",
    "my_text.insert(1.0 , \"There is a problem that use to test if the text widge is fixed. If the line goes to the next line, it will be correct.\")\n",
    "\n",
    "my_button = Button(root , text=\"Increase Font\" , width=13 , font=\"arial 11\" , command=increase_font)\n",
    "my_button.pack(pady=5)\n",
    "\n",
    "mainloop()"
   ]
  },
  {
   "cell_type": "code",
   "execution_count": 6,
   "metadata": {},
   "outputs": [],
   "source": [
    "\n",
    "import tkinter as tk\n",
    "\n",
    "root = tk.Tk()\n",
    "\n",
    "b1 = tk.Button(root, text='b1').pack(side=tk.LEFT)\n",
    "b2 = tk.Button(root, text='b2').pack(side=tk.LEFT)\n",
    "b3 = tk.Button(root, text='b3').pack(side=tk.LEFT)\n",
    "b4 = tk.Button(root, text='b4').pack(side=tk.RIGHT)\n",
    "\n",
    "root.mainloop()"
   ]
  },
  {
   "cell_type": "code",
   "execution_count": 4,
   "metadata": {},
   "outputs": [],
   "source": [
    "import os\n",
    "import json\n",
    "\n",
    "def read_new_words(dir):\n",
    "    \"\"\" Read new words booklet, if it doesn't exist, create one.\n",
    "    \"\"\"\n",
    "    if not os.path.isfile(dir):\n",
    "        open(dir, 'a').close()\n",
    "\n",
    "    with open(dir, 'r') as file:\n",
    "        try:\n",
    "            content = json.loads(file.read())\n",
    "        except json.JSONDecodeError:\n",
    "            content = {}\n",
    "\n",
    "    return content\n",
    "\n",
    "W_DIR = 'data/new words.json'\n",
    "new_ws = read_new_words(W_DIR)"
   ]
  },
  {
   "cell_type": "code",
   "execution_count": 10,
   "metadata": {},
   "outputs": [
    {
     "ename": "NameError",
     "evalue": "name 'new_ws' is not defined",
     "output_type": "error",
     "traceback": [
      "\u001b[0;31m---------------------------------------------------------------------------\u001b[0m",
      "\u001b[0;31mNameError\u001b[0m                                 Traceback (most recent call last)",
      "\u001b[1;32m/Users/xiao/Projects/Python/Cantonese Learning/split_lyrics.ipynb Cell 18\u001b[0m in \u001b[0;36m<cell line: 1>\u001b[0;34m()\u001b[0m\n\u001b[0;32m----> <a href='vscode-notebook-cell:/Users/xiao/Projects/Python/Cantonese%20Learning/split_lyrics.ipynb#X23sZmlsZQ%3D%3D?line=0'>1</a>\u001b[0m new_dict \u001b[39m=\u001b[39m \u001b[39mdict\u001b[39m(\u001b[39msorted\u001b[39m(new_ws\u001b[39m.\u001b[39mitems(), key\u001b[39m=\u001b[39m\u001b[39mlambda\u001b[39;00m item: item[\u001b[39m1\u001b[39m][\u001b[39m1\u001b[39m], reverse\u001b[39m=\u001b[39m\u001b[39mTrue\u001b[39;00m))\n\u001b[1;32m      <a href='vscode-notebook-cell:/Users/xiao/Projects/Python/Cantonese%20Learning/split_lyrics.ipynb#X23sZmlsZQ%3D%3D?line=1'>2</a>\u001b[0m \u001b[39mfor\u001b[39;00m i \u001b[39min\u001b[39;00m new_dict\u001b[39m.\u001b[39mitems():\n\u001b[1;32m      <a href='vscode-notebook-cell:/Users/xiao/Projects/Python/Cantonese%20Learning/split_lyrics.ipynb#X23sZmlsZQ%3D%3D?line=2'>3</a>\u001b[0m     \u001b[39mprint\u001b[39m(\u001b[39mf\u001b[39m\u001b[39m'\u001b[39m\u001b[39m{\u001b[39;00mi[\u001b[39m0\u001b[39m]\u001b[39m}\u001b[39;00m\u001b[39m: \u001b[39m\u001b[39m{\u001b[39;00mi[\u001b[39m1\u001b[39m][\u001b[39m0\u001b[39m]\u001b[39m}\u001b[39;00m\u001b[39m'\u001b[39m)\n",
      "\u001b[0;31mNameError\u001b[0m: name 'new_ws' is not defined"
     ]
    }
   ],
   "source": [
    "new_dict = dict(sorted(new_ws.items(), key=lambda item: item[1][1], reverse=True))\n",
    "for i in new_dict.items():\n",
    "    print(f'{i[0]}: {i[1][0]}')"
   ]
  },
  {
   "cell_type": "code",
   "execution_count": 20,
   "metadata": {},
   "outputs": [
    {
     "name": "stdout",
     "output_type": "stream",
     "text": [
      "(1,)\n"
     ]
    }
   ],
   "source": [
    "from tkinter import *\n",
    "\n",
    "ws = Tk()\n",
    "ws.title('Learning Cantonese')\n",
    "ws.geometry('600x400')\n",
    "\n",
    "var = StringVar()\n",
    "\n",
    "l = Label(ws, width=4, textvariable=var)\n",
    "l.pack()\n",
    "\n",
    "list_items = {\"Arushi\": 22, \"Mani\": 21, \"Haritha\": 21}\n",
    "  \n",
    "lb = Listbox(ws, selectmode = \"multiple\")\n",
    "for item in list_items.items():\n",
    "\t\tlb.insert('end', f'{item[0]}: {item[1]}')\n",
    "      \n",
    "lb.pack()\n",
    "\n",
    "def delete_selection(lb):\n",
    "    global var\n",
    "    value = lb.curselection()\n",
    "    print(value)\n",
    "\n",
    "    lb.delete(value[0])\n",
    "    if len(value) > 0:\n",
    "        list_items.pop(list(list_items)[value[0]])\n",
    "\n",
    "b = Button(ws, text='Delete', command=lambda: delete_selection(lb))\n",
    "b.pack()\n",
    "\n",
    "ws.mainloop()\n"
   ]
  },
  {
   "cell_type": "code",
   "execution_count": 21,
   "metadata": {},
   "outputs": [
    {
     "data": {
      "text/plain": [
       "{'Arushi': 22, 'Haritha': 21}"
      ]
     },
     "execution_count": 21,
     "metadata": {},
     "output_type": "execute_result"
    }
   ],
   "source": [
    "from PIL import ImageTk, Image\n"
   ]
  },
  {
   "cell_type": "code",
   "execution_count": 14,
   "metadata": {},
   "outputs": [],
   "source": [
    "import tkinter as tk\n",
    "\n",
    "root = tk.Tk()\n",
    "root.title('Pack Demo')\n",
    "root.geometry(\"350x200\")\n",
    "\n",
    "# box 1\n",
    "box3 = tk.Label(root, text=\"Box 3\", bg=\"green\", fg=\"white\")\n",
    "box3.pack(ipadx=20, ipady=20, fill=tk.BOTH, expand=1, anchor=tk.W)\n",
    "\n",
    "\n",
    "# box 1\n",
    "box1 = tk.Label(root, text=\"Box 1\", bg=\"green\", fg=\"white\")\n",
    "box1.pack(ipadx=20, ipady=20, fill=tk.X, expand=1, anchor=tk.W, side=tk.LEFT)\n",
    "\n",
    "# box 2\n",
    "box2 = tk.Label(root, text=\"Box 2\", bg=\"red\", fg=\"white\")\n",
    "box2.pack(ipadx=20, ipady=20, expand=1, anchor=tk.W, side=tk.RIGHT)\n",
    "\n",
    "# box 1\n",
    "box4 = tk.Label(root, text=\"Box 4\", bg=\"green\", fg=\"white\")\n",
    "box4.pack(ipadx=20, ipady=20, fill=tk.BOTH, expand=1, anchor=tk.W)\n",
    "\n",
    "root.mainloop()"
   ]
  },
  {
   "cell_type": "code",
   "execution_count": 6,
   "metadata": {},
   "outputs": [],
   "source": [
    "import tkinter as tk\n",
    "from tkinter import ttk\n",
    "\n",
    "root = tk.Tk()\n",
    "root.title('Pack Demo')\n",
    "root.geometry(\"300x200\")\n",
    "\n",
    "ipadding = {'ipadx': 10, 'ipady': 10}\n",
    "\n",
    "# place widgets top down\n",
    "label1 = tk.Label(root, text='Box 1', bg=\"red\", fg=\"white\")\n",
    "label1.pack(fill=tk.X)\n",
    "\n",
    "label2 = tk.Label(root, text='Box 2', bg=\"green\", fg=\"white\")\n",
    "label2.pack(fill=tk.X)\n",
    "\n",
    "# place widgets side by side\n",
    "label4 = tk.Label(root, text='Left', bg=\"cyan\", fg=\"black\")\n",
    "label4.pack(expand=True, fill=tk.BOTH, side=tk.LEFT)\n",
    "\n",
    "label5 = tk.Label(root, text='Center', bg=\"magenta\", fg=\"black\")\n",
    "label5.pack(expand=True, fill=tk.BOTH, side=tk.LEFT)\n",
    "\n",
    "label6 = tk.Label(root, text='Right', bg=\"yellow\", fg=\"black\")\n",
    "label6.pack(expand=True, fill=tk.BOTH, side=tk.LEFT)\n",
    "\n",
    "label3 = tk.Label(root, text='Box 3', bg=\"blue\", fg=\"white\")\n",
    "label3.pack(fill=tk.X)\n",
    "\n",
    "root.mainloop()"
   ]
  },
  {
   "cell_type": "markdown",
   "metadata": {},
   "source": [
    "#### Stimulate pages"
   ]
  },
  {
   "cell_type": "code",
   "execution_count": 2,
   "metadata": {},
   "outputs": [],
   "source": [
    "# Highlight new words\n",
    "from tkinter import *\n",
    "import learnCantonese as lc\n",
    "W_DIR = 'data/new words copy.json'\n",
    "\n",
    "new_w = dict(lc.read_new_words(W_DIR).items())\n",
    "new_w_list = [f'{i[0]}: {i[1][0]}' for i in new_w.items()]\n",
    "\n",
    "root = Tk()\n",
    "root.geometry('400x280')\n",
    "\n",
    "selection = StringVar()\n",
    "\n",
    "label = Label(root, textvariable=selection)\n",
    "label.pack(fill=X)\n",
    "\n",
    "listbox = Listbox(root)\n",
    "listbox.pack(expand=1, fill=\"both\")\n",
    "\n",
    "# inserting some items\n",
    "listbox.insert(\"end\", \"A list item\")\n",
    "\n",
    "for item in new_w.items():\n",
    "    listbox.insert(\"end\", f'{item[0]}: {item[1][0]}')\n",
    "    if item[1][-1] == 1:\n",
    "        listbox.itemconfig(\"end\", {'fg': 'light green'})\n",
    "\n",
    "def add_selection():\n",
    "    value = listbox.get(listbox.curselection())\n",
    "    selection.set(value)\n",
    "\n",
    "def highlight_selection(new_w):\n",
    "    value = listbox.get(listbox.curselection())\n",
    "    selection.set(value)\n",
    "    \n",
    "    if new_w[value.split(':')[0]][-1] == 0:\n",
    "        listbox.itemconfig(listbox.curselection()[0], {'fg': 'light green'})\n",
    "        new_w[value.split(':')[0]][-1] = 1\n",
    "    else:\n",
    "        listbox.itemconfig(listbox.curselection()[0], {'fg': 'white'})\n",
    "        new_w[value.split(':')[0]][-1] = 0\n",
    "\n",
    "b = Button(root, text='Select', command=add_selection)\n",
    "b.pack(side=LEFT)\n",
    "\n",
    "b2 = Button(root, text='highlight', command=lambda: highlight_selection(new_w))\n",
    "b2.pack(side=LEFT)\n",
    "\n",
    "root.mainloop()\n",
    "\n",
    "lc.output_new_words(W_DIR, new_w)"
   ]
  },
  {
   "cell_type": "code",
   "execution_count": 10,
   "metadata": {},
   "outputs": [],
   "source": [
    "import re\n",
    "\n",
    "def next_lyrics(display_c_l, cn_l, t, e):\n",
    "    global N\n",
    "\n",
    "    N += 1\n",
    "    value = cn_l[N]\n",
    "    display_c_l.set(value)\n",
    "\n",
    "    t.delete(\"1.0\", END)\n",
    "    e.delete(0, END)\n",
    "    e.focus_set()\n",
    "\n",
    "def previous_lyrics(display_c_l, cn_l, t, e):\n",
    "    global N\n",
    "\n",
    "    N -= 1\n",
    "    value = cn_l[N]\n",
    "    display_c_l.set(value)\n",
    "\n",
    "    t.delete(\"1.0\", END)\n",
    "    e.delete(0, END)\n",
    "    e.focus_set()\n",
    "\n",
    "def check_lyrics(input_l, cn_l, en_l, w_dir, t, t2):\n",
    "    global N\n",
    "\n",
    "    if (len(input_l) == 0) and (t.get('1.0', END) == '\\n'):\n",
    "        t.insert(END, 'There is no input')\n",
    "\n",
    "    elif t.get('1.0', END) in ['There is no input\\n', '\\n']:\n",
    "        t.delete('1.0', END)\n",
    "\n",
    "        cn_w = list(cn_l.replace(' ', ''))\n",
    "        en_l = re.sub('\\s+',' ', en_l).lstrip().split(' ')\n",
    "        check_words = re.sub('\\s+',' ', input_l).lstrip().split(' ')\n",
    "        new_w = lc.read_new_words(w_dir)\n",
    "\n",
    "        for w in range(len(check_words)):\n",
    "            if (check_words[w] != en_l[w]) and ('/' not in en_l[w] or check_words[w] not in en_l[w].split('/')):\n",
    "                t.insert(END, en_l[w], 'warning')\n",
    "                t.insert(END, '  ')\n",
    "\n",
    "                # add to word book\n",
    "                lc.add_new_words(new_w, cn_w[w], en_l[w])\n",
    "                lc.output_new_words(w_dir, new_w)\n",
    "\n",
    "                if cn_w[w] not in t2.get(\"1.0\", \"end\"):\n",
    "                    t2.insert(END, f'{cn_w[w]}: ')\n",
    "                    t2.insert(END, f'{en_l[w]}\\t', 'warning')\n",
    "\n",
    "            else:\n",
    "                t.insert(END, f'{en_l[w]}  ')\n",
    "\n",
    "# Fix duplicate check\n",
    "from tkinter import *\n",
    "import learnCantonese as lc\n",
    "\n",
    "root = Tk()\n",
    "root.geometry('400x280')\n",
    "\n",
    "# Get lyrics\n",
    "lyric_dir = 'data/songs/南昌街王子.txt'\n",
    "clean_l = lc.read_lyrics(lyric_dir)\n",
    "cn_l, en_l = clean_l[::2], lc.split_words_tones(clean_l[1::2])\n",
    "N = 0\n",
    "\n",
    "display_c_l = StringVar()\n",
    "display_c_l.set(cn_l[N])\n",
    "\n",
    "# components to input cantonese\n",
    "frame = Frame(root)\n",
    "\n",
    "l = Label(frame, textvariable=display_c_l, bg='#323232', font=(\"arial\", 14), height=2)\n",
    "\n",
    "e = Entry(frame, bg='black')\n",
    "e.focus_set()\n",
    "\n",
    "def clear_entry():\n",
    "    e.delete(0, 'end')\n",
    "\n",
    "clear_b = Button(frame, text='x', command=lambda:clear_entry(), width=20, height=20, bg='#616161', fg='white')\n",
    "\n",
    "# textframe = Frame(root)\n",
    "t = Text(frame, height=2, font=(\"arial\", 14))\n",
    "t.tag_config('warning', foreground='#A6FF2E')\n",
    "\n",
    "# buttons\n",
    "buttonframe = Frame(root)\n",
    "b1 = Button(buttonframe, text='Check', command=lambda: check_lyrics(e.get(), cn_l[N], en_l[N], W_DIR, t, t2), bg='#616161', fg='white', width=200)\n",
    "b2 = Button(buttonframe, text='->', command=lambda: next_lyrics(display_c_l, cn_l, t, e), bg='#616161', fg='white', width=100)\n",
    "b3 = Button(buttonframe, text='<-', command=lambda: previous_lyrics(display_c_l, cn_l, t, e), bg='#616161', fg='white', width=100)\n",
    "\n",
    "# words text\n",
    "frame2 = Frame(root)\n",
    "t2 = Text(frame2, font=(\"Helvetica\", 14))\n",
    "t2.tag_config('warning', foreground='#A6FF2E')\n",
    "\n",
    "# show components on screen\n",
    "frame.pack()\n",
    "\n",
    "l.pack(fill='x', padx=10, pady=5)\n",
    "e.pack(fill='x', padx=10, pady=5)\n",
    "# clear_b.pack(padx=10, pady=5)\n",
    "t.pack(fill='x', expand=True, padx=10, pady=5)\n",
    "\n",
    "buttonframe.pack()\n",
    "b3.pack(padx=10, pady=5, side=LEFT)\n",
    "b1.pack(padx=10, pady=5, side=LEFT)\n",
    "b2.pack(padx=10, pady=5, side=LEFT)\n",
    "\n",
    "frame2.pack()\n",
    "t2.pack(fill='x', padx=10, pady=5)\n",
    "\n",
    "root.bind('<Return>', lambda event: check_lyrics(e.get(), cn_l[N], en_l[N], W_DIR, t, t2))\n",
    "root.bind('<Right>', lambda event: next_lyrics(display_c_l, cn_l, t, e))\n",
    "root.bind('<Left>', lambda event: previous_lyrics(display_c_l, cn_l, t, e))\n",
    "\n",
    "root.mainloop()"
   ]
  }
 ],
 "metadata": {
  "kernelspec": {
   "display_name": "Python 3.9.10 ('base')",
   "language": "python",
   "name": "python3"
  },
  "language_info": {
   "codemirror_mode": {
    "name": "ipython",
    "version": 3
   },
   "file_extension": ".py",
   "mimetype": "text/x-python",
   "name": "python",
   "nbconvert_exporter": "python",
   "pygments_lexer": "ipython3",
   "version": "3.9.10"
  },
  "orig_nbformat": 4,
  "vscode": {
   "interpreter": {
    "hash": "07d59c2e07cffdbb0e861da712a06c3be4298400c4d7d564ce0a05edec008f1b"
   }
  }
 },
 "nbformat": 4,
 "nbformat_minor": 2
}
