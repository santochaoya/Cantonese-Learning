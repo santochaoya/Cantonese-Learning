{
 "cells": [
  {
   "cell_type": "code",
   "execution_count": 3,
   "metadata": {},
   "outputs": [],
   "source": [
    "with open('data/songs/寻找独角兽.txt') as file:\n",
    "    content = file.read().splitlines()\n",
    "    \n",
    "file.close()\n",
    "\n",
    "clean_l = [x for x in content if x != '' and 'https' not in x]"
   ]
  },
  {
   "cell_type": "code",
   "execution_count": 4,
   "metadata": {},
   "outputs": [],
   "source": [
    "# Split chinese and english\n",
    "cn_l, en_l = clean_l[::2], clean_l[1::2]"
   ]
  },
  {
   "cell_type": "code",
   "execution_count": 7,
   "metadata": {},
   "outputs": [],
   "source": [
    "# Split tones\n",
    "import string\n",
    "\n",
    "dict_table = str.maketrans('', '', string.digits)\n",
    "clean_en_l = [x.translate(dict_table) for x in en_l]"
   ]
  },
  {
   "cell_type": "code",
   "execution_count": 8,
   "metadata": {},
   "outputs": [
    {
     "name": "stdout",
     "output_type": "stream",
     "text": [
      "树上大鸟 与风神在说话\n",
      "\u001b[32msyu\u001b[39m soeng daai niu jyu fung san zoi syut waa\n",
      "\u001b[31msy\\\u001b[39m\n",
      "地上巨兽 寄居解语花下\n",
      "\u001b[32mdei\u001b[39m soeng geoi sau gei geoi gaai jyu/jyu faa haa\n",
      "\u001b[31m\u001b[39m\n"
     ]
    }
   ],
   "source": [
    "from termcolor import colored\n",
    "\n",
    "red = \"\\033[31m\"\n",
    "green = \"\\033[32m\"\n",
    "reset = \"\\033[39m\"\n",
    "\n",
    "word_book = {}\n",
    "word_info = []\n",
    "\n",
    "for s in range(2):\n",
    "    print(cn_l[s])\n",
    "    \n",
    "    i = input()\n",
    "\n",
    "    correct_cn_w = list(cn_l[s].replace(' ', ''))\n",
    "    correct_words = clean_en_l[s].split(' ')\n",
    "    colored_correct_words = correct_words.copy()\n",
    "    check_words = i.split(' ')\n",
    "\n",
    "    for w in range(len(check_words)):\n",
    "\n",
    "        if (check_words[w] != correct_words[w]) and ('/' not in correct_words[w] or check_words[w] not in correct_words[w].split('/')):\n",
    "            check_words[w] = red + check_words[w] + reset\n",
    "            colored_correct_words[w] = green + correct_words[w] + reset\n",
    "\n",
    "            if correct_cn_w[w] in word_book:\n",
    "                word_book[correct_cn_w[w]][1] += 1\n",
    "            else:\n",
    "                word_book[correct_cn_w[w]] = [correct_words[w], 1]\n",
    "\n",
    "    output_lyrics = ' '.join(check_words)\n",
    "    correct_lyrics = ' '.join(colored_correct_words)    \n",
    "\n",
    "    print(correct_lyrics)\n",
    "    print(output_lyrics)"
   ]
  },
  {
   "cell_type": "code",
   "execution_count": 13,
   "metadata": {},
   "outputs": [],
   "source": [
    "# output json word book to file\n",
    "import json\n",
    "\n",
    "with open('data/new words.json', 'w') as f:\n",
    "    json.dump(word_book, f, indent=4, ensure_ascii=False)\n",
    "\n",
    "f.close()"
   ]
  },
  {
   "cell_type": "code",
   "execution_count": 15,
   "metadata": {},
   "outputs": [
    {
     "data": {
      "text/plain": [
       "{'上': ['soeng', 2], '与': ['jyu', 1]}"
      ]
     },
     "execution_count": 15,
     "metadata": {},
     "output_type": "execute_result"
    }
   ],
   "source": [
    "import pandas as pd\n",
    "\n",
    "# load json word book from file\n",
    "f = open('data/new words.json', 'r')\n",
    "\n",
    "js_wb = json.loads(f.read())\n",
    "js_wb"
   ]
  },
  {
   "cell_type": "code",
   "execution_count": 61,
   "metadata": {},
   "outputs": [
    {
     "data": {
      "text/html": [
       "<div>\n",
       "<style scoped>\n",
       "    .dataframe tbody tr th:only-of-type {\n",
       "        vertical-align: middle;\n",
       "    }\n",
       "\n",
       "    .dataframe tbody tr th {\n",
       "        vertical-align: top;\n",
       "    }\n",
       "\n",
       "    .dataframe thead th {\n",
       "        text-align: right;\n",
       "    }\n",
       "</style>\n",
       "<table border=\"1\" class=\"dataframe\">\n",
       "  <thead>\n",
       "    <tr style=\"text-align: right;\">\n",
       "      <th></th>\n",
       "      <th>Word</th>\n",
       "      <th>Pronunciation</th>\n",
       "      <th>Counts</th>\n",
       "    </tr>\n",
       "  </thead>\n",
       "  <tbody>\n",
       "    <tr>\n",
       "      <th>0</th>\n",
       "      <td>上</td>\n",
       "      <td>soeng</td>\n",
       "      <td>2</td>\n",
       "    </tr>\n",
       "    <tr>\n",
       "      <th>1</th>\n",
       "      <td>与</td>\n",
       "      <td>jyu</td>\n",
       "      <td>1</td>\n",
       "    </tr>\n",
       "  </tbody>\n",
       "</table>\n",
       "</div>"
      ],
      "text/plain": [
       "  Word Pronunciation  Counts\n",
       "0    上         soeng       2\n",
       "1    与           jyu       1"
      ]
     },
     "execution_count": 61,
     "metadata": {},
     "output_type": "execute_result"
    }
   ],
   "source": [
    "# output as dataframe\n",
    "data = [[key] + values for key, values in js_wb.items()]\n",
    "df = pd.DataFrame(data, columns=['Word', 'Pronunciation', 'Counts'])\n",
    "df"
   ]
  },
  {
   "cell_type": "code",
   "execution_count": 20,
   "metadata": {},
   "outputs": [
    {
     "name": "stdout",
     "output_type": "stream",
     "text": [
      "New words book is existing.\n"
     ]
    }
   ],
   "source": [
    "# check existing\n",
    "import os\n",
    "\n",
    "if not os.path.isfile('data/new words.txt'):\n",
    "    open('data/new words.txt', 'a').close()\n",
    "else:\n",
    "    print('New words book is existing.')"
   ]
  },
  {
   "cell_type": "code",
   "execution_count": 24,
   "metadata": {},
   "outputs": [
    {
     "data": {
      "text/plain": [
       "['再见二丁目',\n",
       " '南昌街王子',\n",
       " '爱与诚',\n",
       " '钟无艳',\n",
       " '南瓜车',\n",
       " '爱得太迟',\n",
       " '富士山下',\n",
       " '甜蜜蜜',\n",
       " '我们都是这样长大的',\n",
       " '恋爱大过天',\n",
       " '红绿灯',\n",
       " '寻找独角兽',\n",
       " '一丝不挂',\n",
       " '黄色大门',\n",
       " '你们的幸福',\n",
       " '下一站天后',\n",
       " '饮歌',\n",
       " '年度之歌',\n",
       " '心淡',\n",
       " '简爱',\n",
       " '喜帖街',\n",
       " '灰姑娘',\n",
       " '男孩像你',\n",
       " '千金',\n",
       " '谁愿放手',\n",
       " '勇',\n",
       " '死性不改']"
      ]
     },
     "execution_count": 24,
     "metadata": {},
     "output_type": "execute_result"
    }
   ],
   "source": [
    "# get list of exisitng songs\n",
    "import glob\n",
    "\n",
    "all_f = glob.glob('data/songs/*.txt')\n",
    "all_songs = [x[11:-4] for x in all_f]\n",
    "all_songs"
   ]
  },
  {
   "cell_type": "code",
   "execution_count": 31,
   "metadata": {},
   "outputs": [
    {
     "name": "stdout",
     "output_type": "stream",
     "text": [
      "+-----------------------------------------------------+\n",
      "|                                                     |\n",
      "|          Let's start to learn Cantonese!!!          |\n",
      "|                                                     |\n",
      "+-----------------------------------------------------+\n",
      "\n"
     ]
    }
   ],
   "source": [
    "title_l1 = \"Let's start to learn Cantonese!!!\"\n",
    "\n",
    "game_start = f\"+{'-'*(20+len(title_l1))}+\\n|{' '*(20+len(title_l1))}|\\n|{' '*10}{title_l1}{' '*10}|\\n|{' '*(20+len(title_l1))}|\\n+{'-'*(20+len(title_l1))}+\\n\"\n",
    "print(game_start)"
   ]
  },
  {
   "cell_type": "code",
   "execution_count": 2,
   "metadata": {},
   "outputs": [],
   "source": [
    "for n in range(23):\n",
    "    def print_n(n):\n",
    "        print(n+1) \n",
    "\n"
   ]
  },
  {
   "cell_type": "code",
   "execution_count": 8,
   "metadata": {},
   "outputs": [],
   "source": [
    "import tkinter as tk\n",
    "\n",
    "root = tk.Tk()      \n",
    "\n",
    "root.mainloop()"
   ]
  },
  {
   "cell_type": "code",
   "execution_count": 3,
   "metadata": {},
   "outputs": [
    {
     "ename": "",
     "evalue": "",
     "output_type": "error",
     "traceback": [
      "\u001b[1;31mThe Kernel crashed while executing code in the the current cell or a previous cell. Please review the code in the cell(s) to identify a possible cause of the failure. Click <a href='https://aka.ms/vscodeJupyterKernelCrash'>here</a> for more info. View Jupyter <a href='command:jupyter.viewOutput'>log</a> for further details."
     ]
    },
    {
     "ename": "",
     "evalue": "",
     "output_type": "error",
     "traceback": [
      "\u001b[1;31mCanceled future for execute_request message before replies were done"
     ]
    }
   ],
   "source": [
    "#!/usr/bin/env python3\n",
    "\n",
    "import tkinter as tk\n",
    "from tkinter.font import Font\n",
    "\n",
    "class Pad(tk.Frame):\n",
    "\n",
    "    def __init__(self, parent, *args, **kwargs):\n",
    "        tk.Frame.__init__(self, parent, *args, **kwargs)\n",
    "\n",
    "        self.toolbar = tk.Frame(self, bg=\"#eee\")\n",
    "        self.toolbar.pack(side=\"top\", fill=\"x\")\n",
    "\n",
    "        self.bold_btn = tk.Button(self.toolbar, text=\"Bold\", command=self.make_bold)\n",
    "        self.bold_btn.pack(side=\"left\")\n",
    "\n",
    "        self.clear_btn = tk.Button(self.toolbar, text=\"Clear\", command=self.clear)\n",
    "        self.clear_btn.pack(side=\"left\")\n",
    "\n",
    "        # Creates a bold font\n",
    "        self.bold_font = Font(family=\"Helvetica\", size=14, weight=\"bold\")\n",
    "\n",
    "        self.text = tk.Text(self)\n",
    "        self.text.insert(\"end\", \"Select part of text and then click 'Bold'...\")\n",
    "        self.text.focus()\n",
    "        self.text.pack(fill=\"both\", expand=True)\n",
    "\n",
    "        # configuring a tag called BOLD\n",
    "        self.text.tag_configure(\"BOLD\", font=self.bold_font)\n",
    "\n",
    "    def make_bold(self):\n",
    "        # tk.TclError exception is raised if not text is selected\n",
    "        try:\n",
    "            self.text.tag_add(\"BOLD\", \"sel.first\", \"sel.last\")        \n",
    "        except tk.TclError:\n",
    "            pass\n",
    "\n",
    "    def clear(self):\n",
    "        self.text.tag_remove(\"BOLD\",  \"1.0\", 'end')\n",
    "\n",
    "\n",
    "def demo():\n",
    "    root = tk.Tk()\n",
    "    Pad(root).pack(expand=1, fill=\"both\")\n",
    "    root.mainloop()\n",
    "\n",
    "\n",
    "if __name__ == \"__main__\":\n",
    "    demo()"
   ]
  },
  {
   "cell_type": "code",
   "execution_count": 5,
   "metadata": {},
   "outputs": [],
   "source": [
    "from tkinter import *\n",
    "\n",
    "root = Tk()\n",
    "\n",
    "txt = Text(root)\n",
    "txt.pack()\n",
    "\n",
    "s = ['white', 'white', 'red', 'red', 'white', 'white', 'white', 'white']\n",
    "\n",
    "txt.tag_config('warning', foreground=\"red\")\n",
    "\n",
    "for i in s:\n",
    "    if i == 'white':\n",
    "        txt.insert('insert', f'{i} ')\n",
    "    else:\n",
    "        txt.insert('insert', i, 'warning')\n",
    "        txt.insert('insert', ' ')\n",
    "\n",
    "root.mainloop()"
   ]
  },
  {
   "cell_type": "code",
   "execution_count": 1,
   "metadata": {},
   "outputs": [
    {
     "ename": "",
     "evalue": "",
     "output_type": "error",
     "traceback": [
      "\u001b[1;31mThe Kernel crashed while executing code in the the current cell or a previous cell. Please review the code in the cell(s) to identify a possible cause of the failure. Click <a href='https://aka.ms/vscodeJupyterKernelCrash'>here</a> for more info. View Jupyter <a href='command:jupyter.viewOutput'>log</a> for further details."
     ]
    },
    {
     "ename": "",
     "evalue": "",
     "output_type": "error",
     "traceback": [
      "\u001b[1;31mCanceled future for execute_request message before replies were done"
     ]
    }
   ],
   "source": [
    "from tkinter import *\n",
    "from tkinter import font\n",
    "\n",
    "root = Tk()\n",
    "\n",
    "fontsize = 16\n",
    "\n",
    "def increase_font():\n",
    "    global fontsize\n",
    "    fontsize += 2\n",
    "    textfont.config(size=fontsize)\n",
    "\n",
    "textfont = font.Font(family = \"consolas\" , size = fontsize)\n",
    "# set the width and height of the Text widget to smallest values\n",
    "# and let the layout manager to expand it\n",
    "my_text = Text(root , width=1 , height=1 , font=textfont)\n",
    "my_text.pack(fill=\"both\", expand=1) # fill the parent frame\n",
    "my_text.insert(1.0 , \"There is a problem that use to test if the text widge is fixed. If the line goes to the next line, it will be correct.\")\n",
    "\n",
    "my_button = Button(root , text=\"Increase Font\" , width=13 , font=\"arial 11\" , command=increase_font)\n",
    "my_button.pack(pady=5)\n",
    "\n",
    "mainloop()"
   ]
  },
  {
   "cell_type": "code",
   "execution_count": 6,
   "metadata": {},
   "outputs": [],
   "source": [
    "\n",
    "import tkinter as tk\n",
    "\n",
    "root = tk.Tk()\n",
    "\n",
    "b1 = tk.Button(root, text='b1').pack(side=tk.LEFT)\n",
    "b2 = tk.Button(root, text='b2').pack(side=tk.LEFT)\n",
    "b3 = tk.Button(root, text='b3').pack(side=tk.LEFT)\n",
    "b4 = tk.Button(root, text='b4').pack(side=tk.RIGHT)\n",
    "\n",
    "root.mainloop()"
   ]
  },
  {
   "cell_type": "code",
   "execution_count": 4,
   "metadata": {},
   "outputs": [],
   "source": [
    "import os\n",
    "import json\n",
    "\n",
    "def read_new_words(dir):\n",
    "    \"\"\" Read new words booklet, if it doesn't exist, create one.\n",
    "    \"\"\"\n",
    "    if not os.path.isfile(dir):\n",
    "        open(dir, 'a').close()\n",
    "\n",
    "    with open(dir, 'r') as file:\n",
    "        try:\n",
    "            content = json.loads(file.read())\n",
    "        except json.JSONDecodeError:\n",
    "            content = {}\n",
    "\n",
    "    return content\n",
    "\n",
    "W_DIR = 'data/new words.json'\n",
    "new_ws = read_new_words(W_DIR)"
   ]
  },
  {
   "cell_type": "code",
   "execution_count": 10,
   "metadata": {},
   "outputs": [
    {
     "ename": "NameError",
     "evalue": "name 'new_ws' is not defined",
     "output_type": "error",
     "traceback": [
      "\u001b[0;31m---------------------------------------------------------------------------\u001b[0m",
      "\u001b[0;31mNameError\u001b[0m                                 Traceback (most recent call last)",
      "\u001b[1;32m/Users/xiao/Projects/Python/Cantonese Learning/split_lyrics.ipynb Cell 18\u001b[0m in \u001b[0;36m<cell line: 1>\u001b[0;34m()\u001b[0m\n\u001b[0;32m----> <a href='vscode-notebook-cell:/Users/xiao/Projects/Python/Cantonese%20Learning/split_lyrics.ipynb#X23sZmlsZQ%3D%3D?line=0'>1</a>\u001b[0m new_dict \u001b[39m=\u001b[39m \u001b[39mdict\u001b[39m(\u001b[39msorted\u001b[39m(new_ws\u001b[39m.\u001b[39mitems(), key\u001b[39m=\u001b[39m\u001b[39mlambda\u001b[39;00m item: item[\u001b[39m1\u001b[39m][\u001b[39m1\u001b[39m], reverse\u001b[39m=\u001b[39m\u001b[39mTrue\u001b[39;00m))\n\u001b[1;32m      <a href='vscode-notebook-cell:/Users/xiao/Projects/Python/Cantonese%20Learning/split_lyrics.ipynb#X23sZmlsZQ%3D%3D?line=1'>2</a>\u001b[0m \u001b[39mfor\u001b[39;00m i \u001b[39min\u001b[39;00m new_dict\u001b[39m.\u001b[39mitems():\n\u001b[1;32m      <a href='vscode-notebook-cell:/Users/xiao/Projects/Python/Cantonese%20Learning/split_lyrics.ipynb#X23sZmlsZQ%3D%3D?line=2'>3</a>\u001b[0m     \u001b[39mprint\u001b[39m(\u001b[39mf\u001b[39m\u001b[39m'\u001b[39m\u001b[39m{\u001b[39;00mi[\u001b[39m0\u001b[39m]\u001b[39m}\u001b[39;00m\u001b[39m: \u001b[39m\u001b[39m{\u001b[39;00mi[\u001b[39m1\u001b[39m][\u001b[39m0\u001b[39m]\u001b[39m}\u001b[39;00m\u001b[39m'\u001b[39m)\n",
      "\u001b[0;31mNameError\u001b[0m: name 'new_ws' is not defined"
     ]
    }
   ],
   "source": [
    "new_dict = dict(sorted(new_ws.items(), key=lambda item: item[1][1], reverse=True))\n",
    "for i in new_dict.items():\n",
    "    print(f'{i[0]}: {i[1][0]}')"
   ]
  },
  {
   "cell_type": "code",
   "execution_count": 20,
   "metadata": {},
   "outputs": [
    {
     "name": "stdout",
     "output_type": "stream",
     "text": [
      "(1,)\n"
     ]
    }
   ],
   "source": [
    "from tkinter import *\n",
    "\n",
    "ws = Tk()\n",
    "ws.title('Learning Cantonese')\n",
    "ws.geometry('600x400')\n",
    "\n",
    "var = StringVar()\n",
    "\n",
    "l = Label(ws, width=4, textvariable=var)\n",
    "l.pack()\n",
    "\n",
    "list_items = {\"Arushi\": 22, \"Mani\": 21, \"Haritha\": 21}\n",
    "  \n",
    "lb = Listbox(ws, selectmode = \"multiple\")\n",
    "for item in list_items.items():\n",
    "\t\tlb.insert('end', f'{item[0]}: {item[1]}')\n",
    "      \n",
    "lb.pack()\n",
    "\n",
    "def delete_selection(lb):\n",
    "    global var\n",
    "    value = lb.curselection()\n",
    "    print(value)\n",
    "\n",
    "    lb.delete(value[0])\n",
    "    if len(value) > 0:\n",
    "        list_items.pop(list(list_items)[value[0]])\n",
    "\n",
    "b = Button(ws, text='Delete', command=lambda: delete_selection(lb))\n",
    "b.pack()\n",
    "\n",
    "ws.mainloop()\n"
   ]
  },
  {
   "cell_type": "code",
   "execution_count": 21,
   "metadata": {},
   "outputs": [
    {
     "data": {
      "text/plain": [
       "{'Arushi': 22, 'Haritha': 21}"
      ]
     },
     "execution_count": 21,
     "metadata": {},
     "output_type": "execute_result"
    }
   ],
   "source": [
    "from PIL import ImageTk, Image\n"
   ]
  },
  {
   "cell_type": "code",
   "execution_count": 14,
   "metadata": {},
   "outputs": [],
   "source": [
    "import tkinter as tk\n",
    "\n",
    "root = tk.Tk()\n",
    "root.title('Pack Demo')\n",
    "root.geometry(\"350x200\")\n",
    "\n",
    "# box 1\n",
    "box3 = tk.Label(root, text=\"Box 3\", bg=\"green\", fg=\"white\")\n",
    "box3.pack(ipadx=20, ipady=20, fill=tk.BOTH, expand=1, anchor=tk.W)\n",
    "\n",
    "\n",
    "# box 1\n",
    "box1 = tk.Label(root, text=\"Box 1\", bg=\"green\", fg=\"white\")\n",
    "box1.pack(ipadx=20, ipady=20, fill=tk.X, expand=1, anchor=tk.W, side=tk.LEFT)\n",
    "\n",
    "# box 2\n",
    "box2 = tk.Label(root, text=\"Box 2\", bg=\"red\", fg=\"white\")\n",
    "box2.pack(ipadx=20, ipady=20, expand=1, anchor=tk.W, side=tk.RIGHT)\n",
    "\n",
    "# box 1\n",
    "box4 = tk.Label(root, text=\"Box 4\", bg=\"green\", fg=\"white\")\n",
    "box4.pack(ipadx=20, ipady=20, fill=tk.BOTH, expand=1, anchor=tk.W)\n",
    "\n",
    "root.mainloop()"
   ]
  },
  {
   "cell_type": "code",
   "execution_count": 7,
   "metadata": {},
   "outputs": [],
   "source": [
    "import tkinter as tk\n",
    "from tkinter import ttk\n",
    "\n",
    "root = tk.Tk()\n",
    "root.title('Pack Demo')\n",
    "root.geometry(\"300x200\")\n",
    "\n",
    "ipadding = {'ipadx': 10, 'ipady': 10}\n",
    "\n",
    "# place widgets top down\n",
    "label1 = tk.Label(root, text='Box 1', bg=\"red\", fg=\"white\")\n",
    "label1.pack(fill=tk.X)\n",
    "\n",
    "label2 = tk.Label(root, text='Box 2', bg=\"green\", fg=\"white\")\n",
    "label2.pack(fill=tk.X)\n",
    "\n",
    "# place widgets side by side\n",
    "label4 = tk.Label(root, text='Left', bg=\"cyan\", fg=\"black\")\n",
    "label4.pack(expand=True, fill=tk.BOTH, side=tk.LEFT)\n",
    "\n",
    "label5 = tk.Label(root, text='Center', bg=\"magenta\", fg=\"black\")\n",
    "label5.pack(expand=True, fill=tk.BOTH, side=tk.LEFT)\n",
    "\n",
    "label6 = tk.Label(root, text='Right', bg=\"yellow\", fg=\"black\")\n",
    "label6.pack(expand=True, fill=tk.BOTH, side=tk.LEFT)\n",
    "\n",
    "label3 = tk.Label(root, text='Box 3', bg=\"blue\", fg=\"white\")\n",
    "label3.pack(fill=tk.X)\n",
    "\n",
    "root.mainloop()"
   ]
  },
  {
   "cell_type": "code",
   "execution_count": null,
   "metadata": {},
   "outputs": [],
   "source": []
  }
 ],
 "metadata": {
  "kernelspec": {
   "display_name": "Python 3.9.10 ('base')",
   "language": "python",
   "name": "python3"
  },
  "language_info": {
   "codemirror_mode": {
    "name": "ipython",
    "version": 3
   },
   "file_extension": ".py",
   "mimetype": "text/x-python",
   "name": "python",
   "nbconvert_exporter": "python",
   "pygments_lexer": "ipython3",
   "version": "3.9.10"
  },
  "orig_nbformat": 4,
  "vscode": {
   "interpreter": {
    "hash": "07d59c2e07cffdbb0e861da712a06c3be4298400c4d7d564ce0a05edec008f1b"
   }
  }
 },
 "nbformat": 4,
 "nbformat_minor": 2
}
