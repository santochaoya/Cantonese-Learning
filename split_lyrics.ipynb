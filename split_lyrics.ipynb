{
 "cells": [
  {
   "cell_type": "code",
   "execution_count": 6,
   "metadata": {},
   "outputs": [],
   "source": [
    "with open('data/songs/寻找独角兽.txt') as file:\n",
    "    content = file.read().splitlines()\n",
    "    \n",
    "file.close()\n",
    "\n",
    "clean_l = [x for x in content if x != '' and 'https' not in x]"
   ]
  },
  {
   "cell_type": "code",
   "execution_count": 257,
   "metadata": {},
   "outputs": [],
   "source": [
    "# Split chinese and english\n",
    "cn_l, en_l = clean_l[::2], clean_l[1::2]"
   ]
  },
  {
   "cell_type": "code",
   "execution_count": 8,
   "metadata": {},
   "outputs": [],
   "source": [
    "# Split tones\n",
    "import string\n",
    "\n",
    "dict_table = str.maketrans('', '', string.digits)\n",
    "clean_en_l = [x.translate(dict_table) for x in en_l]"
   ]
  },
  {
   "cell_type": "code",
   "execution_count": 8,
   "metadata": {},
   "outputs": [
    {
     "name": "stdout",
     "output_type": "stream",
     "text": [
      "树上大鸟 与风神在说话\n",
      "\u001b[32msyu\u001b[39m soeng daai niu jyu fung san zoi syut waa\n",
      "\u001b[31msy\\\u001b[39m\n",
      "地上巨兽 寄居解语花下\n",
      "\u001b[32mdei\u001b[39m soeng geoi sau gei geoi gaai jyu/jyu faa haa\n",
      "\u001b[31m\u001b[39m\n"
     ]
    }
   ],
   "source": [
    "from termcolor import colored\n",
    "\n",
    "red = \"\\033[31m\"\n",
    "green = \"\\033[32m\"\n",
    "reset = \"\\033[39m\"\n",
    "\n",
    "word_book = {}\n",
    "word_info = []\n",
    "\n",
    "for s in range(2):\n",
    "    print(cn_l[s])\n",
    "    \n",
    "    i = input()\n",
    "\n",
    "    correct_cn_w = list(cn_l[s].replace(' ', ''))\n",
    "    correct_words = clean_en_l[s].split(' ')\n",
    "    colored_correct_words = correct_words.copy()\n",
    "    check_words = i.split(' ')\n",
    "\n",
    "    for w in range(len(check_words)):\n",
    "\n",
    "        if (check_words[w] != correct_words[w]) and ('/' not in correct_words[w] or check_words[w] not in correct_words[w].split('/')):\n",
    "            check_words[w] = red + check_words[w] + reset\n",
    "            colored_correct_words[w] = green + correct_words[w] + reset\n",
    "\n",
    "            if correct_cn_w[w] in word_book:\n",
    "                word_book[correct_cn_w[w]][1] += 1\n",
    "            else:\n",
    "                word_book[correct_cn_w[w]] = [correct_words[w], 1]\n",
    "\n",
    "    output_lyrics = ' '.join(check_words)\n",
    "    correct_lyrics = ' '.join(colored_correct_words)    \n",
    "\n",
    "    print(correct_lyrics)\n",
    "    print(output_lyrics)"
   ]
  },
  {
   "cell_type": "code",
   "execution_count": 13,
   "metadata": {},
   "outputs": [],
   "source": [
    "# output json word book to file\n",
    "import json\n",
    "\n",
    "with open('data/new words.json', 'w') as f:\n",
    "    json.dump(word_book, f, indent=4, ensure_ascii=False)\n",
    "\n",
    "f.close()"
   ]
  },
  {
   "cell_type": "code",
   "execution_count": 15,
   "metadata": {},
   "outputs": [
    {
     "data": {
      "text/plain": [
       "{'上': ['soeng', 2], '与': ['jyu', 1]}"
      ]
     },
     "execution_count": 15,
     "metadata": {},
     "output_type": "execute_result"
    }
   ],
   "source": [
    "import pandas as pd\n",
    "\n",
    "# load json word book from file\n",
    "f = open('data/new words.json', 'r')\n",
    "\n",
    "js_wb = json.loads(f.read())\n",
    "js_wb"
   ]
  },
  {
   "cell_type": "code",
   "execution_count": 61,
   "metadata": {},
   "outputs": [
    {
     "data": {
      "text/html": [
       "<div>\n",
       "<style scoped>\n",
       "    .dataframe tbody tr th:only-of-type {\n",
       "        vertical-align: middle;\n",
       "    }\n",
       "\n",
       "    .dataframe tbody tr th {\n",
       "        vertical-align: top;\n",
       "    }\n",
       "\n",
       "    .dataframe thead th {\n",
       "        text-align: right;\n",
       "    }\n",
       "</style>\n",
       "<table border=\"1\" class=\"dataframe\">\n",
       "  <thead>\n",
       "    <tr style=\"text-align: right;\">\n",
       "      <th></th>\n",
       "      <th>Word</th>\n",
       "      <th>Pronunciation</th>\n",
       "      <th>Counts</th>\n",
       "    </tr>\n",
       "  </thead>\n",
       "  <tbody>\n",
       "    <tr>\n",
       "      <th>0</th>\n",
       "      <td>上</td>\n",
       "      <td>soeng</td>\n",
       "      <td>2</td>\n",
       "    </tr>\n",
       "    <tr>\n",
       "      <th>1</th>\n",
       "      <td>与</td>\n",
       "      <td>jyu</td>\n",
       "      <td>1</td>\n",
       "    </tr>\n",
       "  </tbody>\n",
       "</table>\n",
       "</div>"
      ],
      "text/plain": [
       "  Word Pronunciation  Counts\n",
       "0    上         soeng       2\n",
       "1    与           jyu       1"
      ]
     },
     "execution_count": 61,
     "metadata": {},
     "output_type": "execute_result"
    }
   ],
   "source": [
    "# output as dataframe\n",
    "data = [[key] + values for key, values in js_wb.items()]\n",
    "df = pd.DataFrame(data, columns=['Word', 'Pronunciation', 'Counts'])\n",
    "df"
   ]
  },
  {
   "cell_type": "code",
   "execution_count": 20,
   "metadata": {},
   "outputs": [
    {
     "name": "stdout",
     "output_type": "stream",
     "text": [
      "New words book is existing.\n"
     ]
    }
   ],
   "source": [
    "# check existing\n",
    "import os\n",
    "\n",
    "if not os.path.isfile('data/new words.txt'):\n",
    "    open('data/new words.txt', 'a').close()\n",
    "else:\n",
    "    print('New words book is existing.')"
   ]
  },
  {
   "cell_type": "code",
   "execution_count": null,
   "metadata": {},
   "outputs": [],
   "source": [
    "# get list of exisitng songs\n",
    "import glob\n",
    "\n",
    "all_f = glob.glob('data/songs/*.txt')\n",
    "all_songs = [x[11:-4] for x in all_f]\n",
    "all_songs"
   ]
  },
  {
   "cell_type": "code",
   "execution_count": 31,
   "metadata": {},
   "outputs": [
    {
     "name": "stdout",
     "output_type": "stream",
     "text": [
      "+-----------------------------------------------------+\n",
      "|                                                     |\n",
      "|          Let's start to learn Cantonese!!!          |\n",
      "|                                                     |\n",
      "+-----------------------------------------------------+\n",
      "\n"
     ]
    }
   ],
   "source": [
    "title_l1 = \"Let's start to learn Cantonese!!!\"\n",
    "\n",
    "game_start = f\"+{'-'*(20+len(title_l1))}+\\n|{' '*(20+len(title_l1))}|\\n|{' '*10}{title_l1}{' '*10}|\\n|{' '*(20+len(title_l1))}|\\n+{'-'*(20+len(title_l1))}+\\n\"\n",
    "print(game_start)"
   ]
  },
  {
   "cell_type": "code",
   "execution_count": 42,
   "metadata": {},
   "outputs": [
    {
     "data": {
      "text/plain": [
       "'this is a text for finding multiple spaces'"
      ]
     },
     "execution_count": 42,
     "metadata": {},
     "output_type": "execute_result"
    }
   ],
   "source": [
    "# remove redundent spaces\n",
    "import re\n",
    "s = '   this is a text for     finding   multiple spaces'\n",
    "re.sub('\\s+', ' ', s).lstrip()\n"
   ]
  },
  {
   "cell_type": "code",
   "execution_count": null,
   "metadata": {},
   "outputs": [],
   "source": [
    "import learnCantonese as lc\n",
    "W_DIR = 'data/new words.json'\n",
    "\n",
    "new_w = dict(lc.read_new_words(W_DIR).items())\n",
    "new_w_list = [f'{i[0]}: {i[1][0]}' for i in new_w.items()]\n",
    "\n",
    "new_w[new_w_list[0].split(':')[0]].append(1)\n",
    "\n",
    "new_w"
   ]
  },
  {
   "cell_type": "code",
   "execution_count": 36,
   "metadata": {},
   "outputs": [
    {
     "ename": "ValueError",
     "evalue": "Space not allowed in string format specifier",
     "output_type": "error",
     "traceback": [
      "\u001b[0;31m---------------------------------------------------------------------------\u001b[0m",
      "\u001b[0;31mValueError\u001b[0m                                Traceback (most recent call last)",
      "\u001b[1;32m/Users/xiao/Projects/Python/Cantonese Learning/split_lyrics.ipynb Cell 13\u001b[0m in \u001b[0;36m<cell line: 1>\u001b[0;34m()\u001b[0m\n\u001b[0;32m----> <a href='vscode-notebook-cell:/Users/xiao/Projects/Python/Cantonese%20Learning/split_lyrics.ipynb#X50sZmlsZQ%3D%3D?line=0'>1</a>\u001b[0m \u001b[39m'\u001b[39;49m\u001b[39m{0: 5}\u001b[39;49;00m\u001b[39m'\u001b[39;49m\u001b[39m.\u001b[39;49mformat(\u001b[39m'\u001b[39;49m\u001b[39mss\u001b[39;49m\u001b[39m'\u001b[39;49m)\n",
      "\u001b[0;31mValueError\u001b[0m: Space not allowed in string format specifier"
     ]
    }
   ],
   "source": [
    "    return '\\n\\n'.join(['\\n'.join(x) for x in zip(lyrics[::2], lyrics[1::2])])\n"
   ]
  },
  {
   "cell_type": "code",
   "execution_count": 28,
   "metadata": {},
   "outputs": [],
   "source": [
    "# Tidy up and align lyrics\n",
    "import learnCantonese as lc\n",
    "import re\n",
    "\n",
    "# Split lyrics for better reading\n",
    "lyric_dir = 'data/songs/南瓜车.txt'\n",
    "clean_l = list(filter(None, lc.show_lyrics(lyric_dir).split('\\n')))\n",
    "cn_l, en_l = clean_l[::2], clean_l[1::2]\n",
    "en_l_format = [len(y) for y in (re.sub('\\s+', ' ', x).lstrip().split(' ') for x in en_l)]\n"
   ]
  },
  {
   "cell_type": "code",
   "execution_count": 63,
   "metadata": {},
   "outputs": [],
   "source": [
    "# Tidy up and align lyrics\n",
    "import learnCantonese as lc\n",
    "import re\n",
    "\n",
    "# Split lyrics for better reading\n",
    "lyric_dir = 'data/songs/南瓜车.txt'\n",
    "clean_l = list(filter(None, lc.show_lyrics(lyric_dir).split('\\n')))\n",
    "cn_l, en_l = clean_l[::2], clean_l[1::2]"
   ]
  },
  {
   "cell_type": "code",
   "execution_count": 151,
   "metadata": {},
   "outputs": [],
   "source": [
    "import pandas as pd\n",
    "t_en_l = [re.sub('\\s+', ' ', x).lstrip().split(' ') for x in en_l]\n",
    "l = [[len(x) for x in y] for y in t_en_l]\n",
    "t_cn_l = [list(re.sub('\\s+', '', x)) for x in cn_l]"
   ]
  },
  {
   "cell_type": "code",
   "execution_count": 283,
   "metadata": {},
   "outputs": [
    {
     "data": {
      "text/plain": [
       "'\\u3000\\u3000那\\u3000\\u3000\\u3000'"
      ]
     },
     "execution_count": 283,
     "metadata": {},
     "output_type": "execute_result"
    }
   ],
   "source": [
    "'那'.center(6, chr(12288))"
   ]
  },
  {
   "cell_type": "code",
   "execution_count": 296,
   "metadata": {},
   "outputs": [
    {
     "name": "stdout",
     "output_type": "stream",
     "text": [
      "谁 5 :   谁  \n",
      "知 3 :  知 \n",
      "十 4 :  十  \n",
      "二 3 :  二 \n",
      "点 4 :  点  \n",
      "刚 5 :   刚  \n",
      "刚 5 :   刚  \n",
      "够 4 :  够  \n",
      "钟 5 :   钟  \n",
      "融 5 :   融  \n",
      "洽 4 :  洽  \n",
      "甜 4 :  甜  \n",
      "蜜 4 :  蜜  \n",
      "难 11 :      难     \n",
      "再 4 :  再  \n",
      "  谁   知  十   二  点    刚    刚   够    钟    融   洽   甜   蜜       难      再  \n",
      "seoi4 zi1 sap6 ji6 dim2 gong1 gong1 gau3 zung1 jung4 hap1 tim4 mat6 naan4/naan6 zoi3\n"
     ]
    }
   ],
   "source": [
    "test_c, test_e, test_l = t_cn_l[2], [en_l[2]], l[2]\n",
    "t_o = ''\n",
    "for i in range(len(test_c)):\n",
    "    print(test_c[i], test_l[i], ':', test_c[i].center(test_l[i]))\n",
    "    t_o += test_c[i].center(test_l[i])\n",
    "\n",
    "print(t_o + '\\n' + test_e[0])"
   ]
  },
  {
   "cell_type": "code",
   "execution_count": 304,
   "metadata": {},
   "outputs": [
    {
     "data": {
      "text/plain": [
       "1"
      ]
     },
     "execution_count": 304,
     "metadata": {},
     "output_type": "execute_result"
    }
   ],
   "source": [
    "len(u'那')"
   ]
  },
  {
   "cell_type": "code",
   "execution_count": 309,
   "metadata": {},
   "outputs": [
    {
     "name": "stdout",
     "output_type": "stream",
     "text": [
      "谁 5 :   谁  \n",
      "知 3 :  知 \n",
      "十 4 :   十  \n",
      "二 3 :  二 \n",
      "点 4 :   点  \n",
      "刚 5 :   刚  \n",
      "刚 5 :   刚  \n",
      "够 4 :   够  \n",
      "钟 5 :   钟  \n",
      "融 5 :   融  \n",
      "洽 4 :   洽  \n",
      "甜 4 :   甜  \n",
      "蜜 4 :   蜜  \n",
      "难 11 :      难     \n",
      "再 4 :   再  \n",
      "  谁   知   十   二   点    刚    刚    够    钟    融    洽    甜    蜜       难       再  \n",
      "seoi4  zi1  sap6  ji6  dim2  gong1  gong1  gau3  zung1  jung4  hap1  tim4  mat6  naan4/naan6  zoi3\n"
     ]
    }
   ],
   "source": [
    "test_c, test_e, test_l = t_cn_l[2], [en_l[2]], l[2]\n",
    "t_o = ''\n",
    "for i in range(len(test_c)):\n",
    "    print(test_c[i], test_l[i], ':', ' '*int(test_l[i]/2)+test_c[i]+' '*int(test_l[i]/2))\n",
    "    t_o += ' '*int(test_l[i]/2)+test_c[i]+' '*int(test_l[i]/2)\n",
    "\n",
    "print(t_o + '\\n' + test_e[0].replace(' ', '  '))"
   ]
  },
  {
   "cell_type": "code",
   "execution_count": 252,
   "metadata": {},
   "outputs": [
    {
     "name": "stdout",
     "output_type": "stream",
     "text": [
      "　那　　天　　专　　车　　驶　　到　　大　　　门　　外　　　整　　车　　装　　　　着　　爱　\n",
      "naa5 tin1 zyun1 ce1 sai2 dou3 daai6 mun4 ngoi6 zing2 ce1 zong1 zoek6/ oi3\n",
      "\n",
      "　缘　　　份　　到　　了　　被　　　热　　恋　　　接　　　　载　　　　　出　　　发　　　　向　　　舞　会　　开　\n",
      "jyun4 fan6 dou3 liu5 bei6/ jit6 lyun2 zip3 zoi2/zoi3 ceot1 faat3 hoeng3 mou5 wui hoi1\n",
      "\n",
      "　谁　　知　　十　二　　点　　刚　　　刚　　　够　　钟　　　融　　　洽　　甜　　蜜　　　　　难　　　　　　再　\n",
      "seoi4 zi1 sap6 ji6 dim2 gong1 gong1 gau3 zung1 jung4 hap1 tim4 mat6 naan4/naan6 zoi3\n",
      "\n",
      "　被　　　你　　赶　　回　　来　　浪　　　漫　　　完　　　被　　　踢　　开　\n",
      "bei6/ nei5 gon2 wui4 loi4 long6 maan6 jyun4 bei6/ tek3 hoi1\n",
      "\n",
      "　先　知　　我　　结　　局　已　　惨　　　遭　　篡　　　改　\n",
      "sin1 zi1 ngo5 git3 guk6 ji5 caam2 zou1 saan3 goi2\n",
      "\n",
      "　如　　归　　　家　　的　　一　　刻　　再　　没　　南　　　瓜　　车　\n",
      "jyu4 gwai1 gaa1 dik1 jat1 hak1 zoi3 mut6 naam4 gwaa1 ce1\n",
      "\n",
      "　就　　靠　　这　　一　　　双　　　腿　　　　　　散　　　　　　步　　返　　　宿　舍　\n",
      "zau6 kaau3 ze5 jat1 soeng1 teoi2 saan2/saan3 bou6 faan2 suk1 se3\n",
      "\n",
      "　游　　　　　　　　玩　　　　　　　　过　　童　　　话　　国　　　如　　幻　　　　　　觉　　　　遮　　　　盖　　　　视　野　\n",
      "jau4 waan2/wun6/waan4 gwo3 tung4 waa6 gwok3 jyu4 waan6 gok3/gaau3 ze1 goi3/koi3 si6 je5\n",
      "\n",
      "可　　有　　乘　　　　　载　　　　　　着　　　我　　　　　　重　　　　　　回　　现　　实　　班　　车　\n",
      "ho2 jau5 sing4 zoi2/zoi3 zoek6/ ngo5 cung45/zung6 wui4 jin6 sat6 baan1 ce1\n",
      "\n",
      "　做　　过　　几　　　　分　　　　　钟　　　公　　　主　　搭　　　　着　　　南　　　瓜　　车　\n",
      "zou6 gwo3 gei2 fan1/fan6 zung1 gung1 zyu2 daap3 zoek6/ naam4 gwaa1 ce1\n",
      "\n",
      "　亦　　有　　过　爱　　人　　来　　接　　浪　　　漫　　　度　午　夜　\n",
      "jik6 jau5 gwo3 oi3 jan4 loi4 zip3 long6 maan6 dou6 ng5 je6\n",
      "\n",
      "　　良　　　辰　　如　　没　　有　　权　　　续　借　\n",
      "loeng4 san4 jyu4 mut6 jau5 kyun4 zuk6 ze3\n",
      "\n",
      "自　　　　　　　　行　　　　　　　　　回　　家　　不　　必　　撒　　野　\n",
      "zi6 hang4/hang6/hong4 wui4 gaa1 bat1 bit1 saat3 je5\n",
      "\n",
      "　那　么　　　　　衷　　　　　　心　　　相　　　　信　　　　着　　　神　　话　　　应　　　该　　给　　代　　价　\n",
      "naa5 mo1 zung1/cung1 sam1 soeng13 seon3 zoek6/ san4 waa6 jing13 goi1 kap1 doi6 gaa3\n",
      "\n",
      "　还　　　未　　算　　　化　　但　　　遇　　到　　变　　卦　　　总　　　要　　学　会　　潇　　洒　\n",
      "waan4 mei6 syun3 faa3 daan6 jyu6 dou3 bin3 gwaa3 zung2 jiu3 hok6 wui siu1 saa2\n",
      "\n",
      "何　　必　　日　　日　　等　　　　　　　橙　　　　　　　色　　马　车　　情　　　感　何　　用　　　神　　化　\n",
      "ho4 bit1 jat6 jat6 dang2 caang4/caang2 sik1 maa5 ce1 cing4 gam2 ho4 jung6 san4 faa3\n",
      "\n",
      "　被　　　你　　追　　　求　时　　日　　日　　门　　外　　　有　　花　\n",
      "bei6/ nei5 zeoi1 kau4 si4 jat6 jat6 mun4 ngoi6 jau5 faa1\n",
      "\n",
      "　都　　猜　　　到　　　　　散　　　　　　席　　了　只　　得　　雪　　　花　\n",
      "dou1 caai1 dou3 saan2/saan3 zik6 liu5 zi2 dak1 syut3 faa1\n",
      "\n",
      "　幸　　　福　　堡　　垒　　　顿　　　成　　　荒　　野　\n",
      "hang6 fuk1 bou2 leoi5 deon6 sing4 fong1 je5\n",
      "\n",
      "　情　　　愿　　　我　　沉　　实　些　\n",
      "cing4 jyun6 ngo5 cam4 sat6 se1\n",
      "\n",
      "　及　　早　　　上　　　　路　　别　　来　　与　　你　　拉　　扯　\n",
      "kap6 zou2 soeng56 lou6 bit6 loi4 jyu5 nei5 laai1 ce2\n",
      "\n",
      "　如　　归　　　家　　的　　一　　刻　　再　　没　　南　　　瓜　　车　\n",
      "jyu4 gwai1 gaa1 dik1 jat1 hak1 zoi3 mut6 naam4 gwaa1 ce1\n",
      "\n",
      "　地　　铁　　不　　开　　通　　　宵　　仍　　　能　　　靠　　　步　　　　　　　　行　　　　　　　　\n",
      "dei6 tit3 bat1 hoi1 tung1 siu1 jing4 nang4 kaau3 bou6 hang4/hang6/hong4\n",
      "\n",
      "　流　　泪　　　　眼　　　能　　　习　　　　惯　　　还　　是　　有　　一　　　　片　　　　视　野　\n",
      "lau4 leoi6 ngaan5 nang4 zaap6 gwaan3 waan4 si6 jau5 jat1 pin2/pin3 si6 je5\n",
      "\n",
      "　足　　够　　认　　　我　　路　　　向　　　回　　头　　截　　顺　　　风　　车　\n",
      "zuk1 gau3 jing6 ngo5 lou6 hoeng3 wui4 tau4 zit6 seon6 fung1 ce1\n",
      "\n",
      "　　让　　这　　灰　　色　　衫　　　小　姐　　告　　别　　南　　　瓜　　车　\n",
      "joeng6 ze5 fui1 sik1 saam1 siu2 ze2 gou3 bit6 naam4 gwaa1 ce1\n",
      "\n",
      "　下　次　　再　　有　　人　　来　　接　　但　　　愿　　是　　新　　　娘　　　的　　花　车　\n",
      "haa6 ci3 zoi3 jau5 jan4 loi4 zip3 daan6 jyun6 si6 san1 noeng4 dik1 faa1 ce1\n",
      "\n",
      "　无　　奈　　半　　途　　下　车　　但　　　求　　仍　　　走　　得　　出　　　　旷　　野　\n",
      "mou4 noi6 bun3 tou4 haa6 ce1 daan6 kau4 jing4 zau2 dak1 ceot1 kwong3 je5\n"
     ]
    }
   ],
   "source": [
    "\n",
    "o_l = []\n",
    "for i in range(len(t_cn_l)):\n",
    "    o_s = ''.join(f'{t_cn_l[i][j].center(l[i][j]-1, chr(12288))}' for j in range(len(t_cn_l[i])))\n",
    "    o_l.append(o_s)\n",
    "print('\\n\\n'.join(['\\n'.join(x) for x in zip(o_l, en_l)]))"
   ]
  },
  {
   "cell_type": "code",
   "execution_count": 197,
   "metadata": {},
   "outputs": [
    {
     "data": {
      "text/plain": [
       "'    那    '"
      ]
     },
     "execution_count": 197,
     "metadata": {},
     "output_type": "execute_result"
    }
   ],
   "source": [
    "'那'.center(9)"
   ]
  },
  {
   "cell_type": "code",
   "execution_count": 193,
   "metadata": {},
   "outputs": [
    {
     "name": "stdout",
     "output_type": "stream",
     "text": [
      "　那　　天　　专　　车　\n",
      "naa5 tin1 zyun1 ce1\n"
     ]
    }
   ],
   "source": [
    "l1 = '那'.center(3, chr(12288)) + '天'.center(3, chr(12288)) + '专'.center(4, chr(12288)) + '车'.center(2, chr(12288))\n",
    "l2 = 'naa5 tin1 zyun1 ce1'\n",
    "print(l1+'\\n'+l2)"
   ]
  },
  {
   "cell_type": "code",
   "execution_count": 184,
   "metadata": {},
   "outputs": [
    {
     "name": "stdout",
     "output_type": "stream",
     "text": [
      "        0                  1            2            3        4   \\\n",
      "0        那                  天            专            车        驶   \n",
      "0     naa5               tin1        zyun1          ce1     sai2   \n",
      "1        缘                  份            到            了        被   \n",
      "1    jyun4               fan6         dou3         liu5    bei6/   \n",
      "2        谁                  知            十            二        点   \n",
      "2    seoi4                zi1         sap6          ji6     dim2   \n",
      "3    bei6/               nei5         gon2         wui4     loi4   \n",
      "3        被                  你            赶            回        来   \n",
      "4        先                  知            我            结        局   \n",
      "4     sin1                zi1         ngo5         git3     guk6   \n",
      "5     jyu4              gwai1         gaa1         dik1     jat1   \n",
      "5        如                  归            家            的        一   \n",
      "6        就                  靠            这            一        双   \n",
      "6     zau6              kaau3          ze5         jat1   soeng1   \n",
      "7        游                  玩            过            童        话   \n",
      "7     jau4   waan2/wun6/waan4         gwo3        tung4     waa6   \n",
      "8        可                  有            乘            载        着   \n",
      "8      ho2               jau5        sing4    zoi2/zoi3   zoek6/   \n",
      "9        做                  过            几            分        钟   \n",
      "9     zou6               gwo3         gei2    fan1/fan6    zung1   \n",
      "10       亦                  有            过            爱        人   \n",
      "10    jik6               jau5         gwo3          oi3     jan4   \n",
      "11  loeng4               san4         jyu4         mut6     jau5   \n",
      "11       良                  辰            如            没        有   \n",
      "12     zi6  hang4/hang6/hong4         wui4         gaa1     bat1   \n",
      "12       自                  行            回            家        不   \n",
      "13    naa5                mo1  zung1/cung1         sam1  soeng13   \n",
      "13       那                  么            衷            心        相   \n",
      "14   waan4               mei6        syun3         faa3    daan6   \n",
      "14       还                  未            算            化        但   \n",
      "15       何                  必            日            日        等   \n",
      "15     ho4               bit1         jat6         jat6    dang2   \n",
      "16   bei6/               nei5        zeoi1         kau4      si4   \n",
      "16       被                  你            追            求        时   \n",
      "17    dou1              caai1         dou3  saan2/saan3     zik6   \n",
      "17       都                  猜            到            散        席   \n",
      "18   hang6               fuk1         bou2        leoi5    deon6   \n",
      "18       幸                  福            堡            垒        顿   \n",
      "19   cing4              jyun6         ngo5         cam4     sat6   \n",
      "19       情                  愿            我            沉        实   \n",
      "20    kap6               zou2      soeng56         lou6     bit6   \n",
      "20       及                  早            上            路        别   \n",
      "21    jyu4              gwai1         gaa1         dik1     jat1   \n",
      "21       如                  归            家            的        一   \n",
      "22       地                  铁            不            开        通   \n",
      "22    dei6               tit3         bat1         hoi1    tung1   \n",
      "23    lau4              leoi6       ngaan5        nang4    zaap6   \n",
      "23       流                  泪            眼            能        习   \n",
      "24    zuk1               gau3        jing6         ngo5     lou6   \n",
      "24       足                  够            认            我        路   \n",
      "25  joeng6                ze5         fui1         sik1    saam1   \n",
      "25       让                  这            灰            色        衫   \n",
      "26    haa6                ci3         zoi3         jau5     jan4   \n",
      "26       下                  次            再            有        人   \n",
      "27       无                  奈            半            途        下   \n",
      "27    mou4               noi6         bun3         tou4     haa6   \n",
      "\n",
      "               5             6      7           8       9                  10  \\\n",
      "0               到             大      门           外       整                  车   \n",
      "0            dou3         daai6   mun4       ngoi6   zing2                ce1   \n",
      "1               热             恋      接           载       出                  发   \n",
      "1            jit6         lyun2   zip3   zoi2/zoi3   ceot1              faat3   \n",
      "2               刚             刚      够           钟       融                  洽   \n",
      "2           gong1         gong1   gau3       zung1   jung4               hap1   \n",
      "3           long6         maan6  jyun4       bei6/    tek3               hoi1   \n",
      "3               浪             漫      完           被       踢                  开   \n",
      "4               已             惨      遭           篡       改               None   \n",
      "4             ji5         caam2   zou1       saan3    goi2               None   \n",
      "5            hak1          zoi3   mut6       naam4   gwaa1                ce1   \n",
      "5               刻             再      没           南       瓜                  车   \n",
      "6               腿             散      步           返       宿                  舍   \n",
      "6           teoi2   saan2/saan3   bou6       faan2    suk1                se3   \n",
      "7               国             如      幻           觉       遮                  盖   \n",
      "7           gwok3          jyu4  waan6  gok3/gaau3     ze1          goi3/koi3   \n",
      "8               我             重      回           现       实                  班   \n",
      "8            ngo5  cung45/zung6   wui4        jin6    sat6              baan1   \n",
      "9               公             主      搭           着       南                  瓜   \n",
      "9           gung1          zyu2  daap3      zoek6/   naam4              gwaa1   \n",
      "10              来             接      浪           漫       度                  午   \n",
      "10           loi4          zip3  long6       maan6    dou6                ng5   \n",
      "11          kyun4          zuk6    ze3        None    None               None   \n",
      "11              权             续      借        None    None               None   \n",
      "12           bit1         saat3    je5        None    None               None   \n",
      "12              必             撒      野        None    None               None   \n",
      "13          seon3        zoek6/   san4        waa6  jing13               goi1   \n",
      "13              信             着      神           话       应                  该   \n",
      "14           jyu6          dou3   bin3       gwaa3   zung2               jiu3   \n",
      "14              遇             到      变           卦       总                  要   \n",
      "15              橙             色      马           车       情                  感   \n",
      "15  caang4/caang2          sik1   maa5         ce1   cing4               gam2   \n",
      "16           jat6          jat6   mun4       ngoi6    jau5               faa1   \n",
      "16              日             日      门           外       有                  花   \n",
      "17           liu5           zi2   dak1       syut3    faa1               None   \n",
      "17              了             只      得           雪       花               None   \n",
      "18          sing4         fong1    je5        None    None               None   \n",
      "18              成             荒      野        None    None               None   \n",
      "19            se1          None   None        None    None               None   \n",
      "19              些          None   None        None    None               None   \n",
      "20           loi4          jyu5   nei5       laai1     ce2               None   \n",
      "20              来             与      你           拉       扯               None   \n",
      "21           hak1          zoi3   mut6       naam4   gwaa1                ce1   \n",
      "21              刻             再      没           南       瓜                  车   \n",
      "22              宵             仍      能           靠       步                  行   \n",
      "22           siu1         jing4  nang4       kaau3    bou6  hang4/hang6/hong4   \n",
      "23         gwaan3         waan4    si6        jau5    jat1          pin2/pin3   \n",
      "23              惯             还      是           有       一                  片   \n",
      "24         hoeng3          wui4   tau4        zit6   seon6              fung1   \n",
      "24              向             回      头           截       顺                  风   \n",
      "25           siu2           ze2   gou3        bit6   naam4              gwaa1   \n",
      "25              小             姐      告           别       南                  瓜   \n",
      "26           loi4          zip3  daan6       jyun6     si6               san1   \n",
      "26              来             接      但           愿       是                  新   \n",
      "27              车             但      求           仍       走                  得   \n",
      "27            ce1         daan6   kau4       jing4    zau2               dak1   \n",
      "\n",
      "        11      12           13    14  \n",
      "0        装       着            爱  None  \n",
      "0    zong1  zoek6/          oi3  None  \n",
      "1        向       舞            会     开  \n",
      "1   hoeng3    mou5          wui  hoi1  \n",
      "2        甜       蜜            难     再  \n",
      "2     tim4    mat6  naan4/naan6  zoi3  \n",
      "3     None    None         None  None  \n",
      "3     None    None         None  None  \n",
      "4     None    None         None  None  \n",
      "4     None    None         None  None  \n",
      "5     None    None         None  None  \n",
      "5     None    None         None  None  \n",
      "6     None    None         None  None  \n",
      "6     None    None         None  None  \n",
      "7        视       野         None  None  \n",
      "7      si6     je5         None  None  \n",
      "8        车    None         None  None  \n",
      "8      ce1    None         None  None  \n",
      "9        车    None         None  None  \n",
      "9      ce1    None         None  None  \n",
      "10       夜    None         None  None  \n",
      "10     je6    None         None  None  \n",
      "11    None    None         None  None  \n",
      "11    None    None         None  None  \n",
      "12    None    None         None  None  \n",
      "12    None    None         None  None  \n",
      "13    kap1    doi6         gaa3  None  \n",
      "13       给       代            价  None  \n",
      "14    hok6     wui         siu1  saa2  \n",
      "14       学       会            潇     洒  \n",
      "15       何       用            神     化  \n",
      "15     ho4   jung6         san4  faa3  \n",
      "16    None    None         None  None  \n",
      "16    None    None         None  None  \n",
      "17    None    None         None  None  \n",
      "17    None    None         None  None  \n",
      "18    None    None         None  None  \n",
      "18    None    None         None  None  \n",
      "19    None    None         None  None  \n",
      "19    None    None         None  None  \n",
      "20    None    None         None  None  \n",
      "20    None    None         None  None  \n",
      "21    None    None         None  None  \n",
      "21    None    None         None  None  \n",
      "22    None    None         None  None  \n",
      "22    None    None         None  None  \n",
      "23     si6     je5         None  None  \n",
      "23       视       野         None  None  \n",
      "24     ce1    None         None  None  \n",
      "24       车    None         None  None  \n",
      "25     ce1    None         None  None  \n",
      "25       车    None         None  None  \n",
      "26  noeng4    dik1         faa1   ce1  \n",
      "26       娘       的            花     车  \n",
      "27       出       旷            野  None  \n",
      "27   ceot1  kwong3          je5  None  \n"
     ]
    }
   ],
   "source": [
    "print(pd.concat([pd.DataFrame(t_cn_l), pd.DataFrame(t_en_l)]).sort_index())"
   ]
  },
  {
   "cell_type": "code",
   "execution_count": null,
   "metadata": {},
   "outputs": [],
   "source": []
  },
  {
   "cell_type": "code",
   "execution_count": null,
   "metadata": {},
   "outputs": [],
   "source": []
  },
  {
   "cell_type": "markdown",
   "metadata": {},
   "source": [
    "+-----------------------------------------------------+\n",
    "\n",
    "         TKINTER EXAMPLES         \n",
    "\n",
    "+-----------------------------------------------------+\n"
   ]
  },
  {
   "cell_type": "markdown",
   "metadata": {},
   "source": [
    "### tkinter"
   ]
  },
  {
   "cell_type": "markdown",
   "metadata": {},
   "source": [
    "#### Practise"
   ]
  },
  {
   "cell_type": "code",
   "execution_count": 3,
   "metadata": {},
   "outputs": [
    {
     "ename": "",
     "evalue": "",
     "output_type": "error",
     "traceback": [
      "\u001b[1;31mThe Kernel crashed while executing code in the the current cell or a previous cell. Please review the code in the cell(s) to identify a possible cause of the failure. Click <a href='https://aka.ms/vscodeJupyterKernelCrash'>here</a> for more info. View Jupyter <a href='command:jupyter.viewOutput'>log</a> for further details."
     ]
    },
    {
     "ename": "",
     "evalue": "",
     "output_type": "error",
     "traceback": [
      "\u001b[1;31mCanceled future for execute_request message before replies were done"
     ]
    }
   ],
   "source": [
    "#!/usr/bin/env python3\n",
    "\n",
    "import tkinter as tk\n",
    "from tkinter.font import Font\n",
    "\n",
    "class Pad(tk.Frame):\n",
    "\n",
    "    def __init__(self, parent, *args, **kwargs):\n",
    "        tk.Frame.__init__(self, parent, *args, **kwargs)\n",
    "\n",
    "        self.toolbar = tk.Frame(self, bg=\"#eee\")\n",
    "        self.toolbar.pack(side=\"top\", fill=\"x\")\n",
    "\n",
    "        self.bold_btn = tk.Button(self.toolbar, text=\"Bold\", command=self.make_bold)\n",
    "        self.bold_btn.pack(side=\"left\")\n",
    "\n",
    "        self.clear_btn = tk.Button(self.toolbar, text=\"Clear\", command=self.clear)\n",
    "        self.clear_btn.pack(side=\"left\")\n",
    "\n",
    "        # Creates a bold font\n",
    "        self.bold_font = Font(family=\"Helvetica\", size=14, weight=\"bold\")\n",
    "\n",
    "        self.text = tk.Text(self)\n",
    "        self.text.insert(\"end\", \"Select part of text and then click 'Bold'...\")\n",
    "        self.text.focus()\n",
    "        self.text.pack(fill=\"both\", expand=True)\n",
    "\n",
    "        # configuring a tag called BOLD\n",
    "        self.text.tag_configure(\"BOLD\", font=self.bold_font)\n",
    "\n",
    "    def make_bold(self):\n",
    "        # tk.TclError exception is raised if not text is selected\n",
    "        try:\n",
    "            self.text.tag_add(\"BOLD\", \"sel.first\", \"sel.last\")        \n",
    "        except tk.TclError:\n",
    "            pass\n",
    "\n",
    "    def clear(self):\n",
    "        self.text.tag_remove(\"BOLD\",  \"1.0\", 'end')\n",
    "\n",
    "\n",
    "def demo():\n",
    "    root = tk.Tk()\n",
    "    Pad(root).pack(expand=1, fill=\"both\")\n",
    "    root.mainloop()\n",
    "\n",
    "\n",
    "if __name__ == \"__main__\":\n",
    "    demo()"
   ]
  },
  {
   "cell_type": "code",
   "execution_count": 5,
   "metadata": {},
   "outputs": [],
   "source": [
    "from tkinter import *\n",
    "\n",
    "root = Tk()\n",
    "\n",
    "txt = Text(root)\n",
    "txt.pack()\n",
    "\n",
    "s = ['white', 'white', 'red', 'red', 'white', 'white', 'white', 'white']\n",
    "\n",
    "txt.tag_config('warning', foreground=\"red\")\n",
    "\n",
    "for i in s:\n",
    "    if i == 'white':\n",
    "        txt.insert('insert', f'{i} ')\n",
    "    else:\n",
    "        txt.insert('insert', i, 'warning')\n",
    "        txt.insert('insert', ' ')\n",
    "\n",
    "root.mainloop()"
   ]
  },
  {
   "cell_type": "code",
   "execution_count": 1,
   "metadata": {},
   "outputs": [
    {
     "ename": "",
     "evalue": "",
     "output_type": "error",
     "traceback": [
      "\u001b[1;31mThe Kernel crashed while executing code in the the current cell or a previous cell. Please review the code in the cell(s) to identify a possible cause of the failure. Click <a href='https://aka.ms/vscodeJupyterKernelCrash'>here</a> for more info. View Jupyter <a href='command:jupyter.viewOutput'>log</a> for further details."
     ]
    },
    {
     "ename": "",
     "evalue": "",
     "output_type": "error",
     "traceback": [
      "\u001b[1;31mCanceled future for execute_request message before replies were done"
     ]
    }
   ],
   "source": [
    "from tkinter import *\n",
    "from tkinter import font\n",
    "\n",
    "root = Tk()\n",
    "\n",
    "fontsize = 16\n",
    "\n",
    "def increase_font():\n",
    "    global fontsize\n",
    "    fontsize += 2\n",
    "    textfont.config(size=fontsize)\n",
    "\n",
    "textfont = font.Font(family = \"consolas\" , size = fontsize)\n",
    "# set the width and height of the Text widget to smallest values\n",
    "# and let the layout manager to expand it\n",
    "my_text = Text(root , width=1 , height=1 , font=textfont)\n",
    "my_text.pack(fill=\"both\", expand=1) # fill the parent frame\n",
    "my_text.insert(1.0 , \"There is a problem that use to test if the text widge is fixed. If the line goes to the next line, it will be correct.\")\n",
    "\n",
    "my_button = Button(root , text=\"Increase Font\" , width=13 , font=\"arial 11\" , command=increase_font)\n",
    "my_button.pack(pady=5)\n",
    "\n",
    "mainloop()"
   ]
  },
  {
   "cell_type": "code",
   "execution_count": 6,
   "metadata": {},
   "outputs": [],
   "source": [
    "\n",
    "import tkinter as tk\n",
    "\n",
    "root = tk.Tk()\n",
    "\n",
    "b1 = tk.Button(root, text='b1').pack(side=tk.LEFT)\n",
    "b2 = tk.Button(root, text='b2').pack(side=tk.LEFT)\n",
    "b3 = tk.Button(root, text='b3').pack(side=tk.LEFT)\n",
    "b4 = tk.Button(root, text='b4').pack(side=tk.RIGHT)\n",
    "\n",
    "root.mainloop()"
   ]
  },
  {
   "cell_type": "code",
   "execution_count": 4,
   "metadata": {},
   "outputs": [],
   "source": [
    "import os\n",
    "import json\n",
    "\n",
    "def read_new_words(dir):\n",
    "    \"\"\" Read new words booklet, if it doesn't exist, create one.\n",
    "    \"\"\"\n",
    "    if not os.path.isfile(dir):\n",
    "        open(dir, 'a').close()\n",
    "\n",
    "    with open(dir, 'r') as file:\n",
    "        try:\n",
    "            content = json.loads(file.read())\n",
    "        except json.JSONDecodeError:\n",
    "            content = {}\n",
    "\n",
    "    return content\n",
    "\n",
    "W_DIR = 'data/new words.json'\n",
    "new_ws = read_new_words(W_DIR)"
   ]
  },
  {
   "cell_type": "code",
   "execution_count": 10,
   "metadata": {},
   "outputs": [
    {
     "ename": "NameError",
     "evalue": "name 'new_ws' is not defined",
     "output_type": "error",
     "traceback": [
      "\u001b[0;31m---------------------------------------------------------------------------\u001b[0m",
      "\u001b[0;31mNameError\u001b[0m                                 Traceback (most recent call last)",
      "\u001b[1;32m/Users/xiao/Projects/Python/Cantonese Learning/split_lyrics.ipynb Cell 18\u001b[0m in \u001b[0;36m<cell line: 1>\u001b[0;34m()\u001b[0m\n\u001b[0;32m----> <a href='vscode-notebook-cell:/Users/xiao/Projects/Python/Cantonese%20Learning/split_lyrics.ipynb#X23sZmlsZQ%3D%3D?line=0'>1</a>\u001b[0m new_dict \u001b[39m=\u001b[39m \u001b[39mdict\u001b[39m(\u001b[39msorted\u001b[39m(new_ws\u001b[39m.\u001b[39mitems(), key\u001b[39m=\u001b[39m\u001b[39mlambda\u001b[39;00m item: item[\u001b[39m1\u001b[39m][\u001b[39m1\u001b[39m], reverse\u001b[39m=\u001b[39m\u001b[39mTrue\u001b[39;00m))\n\u001b[1;32m      <a href='vscode-notebook-cell:/Users/xiao/Projects/Python/Cantonese%20Learning/split_lyrics.ipynb#X23sZmlsZQ%3D%3D?line=1'>2</a>\u001b[0m \u001b[39mfor\u001b[39;00m i \u001b[39min\u001b[39;00m new_dict\u001b[39m.\u001b[39mitems():\n\u001b[1;32m      <a href='vscode-notebook-cell:/Users/xiao/Projects/Python/Cantonese%20Learning/split_lyrics.ipynb#X23sZmlsZQ%3D%3D?line=2'>3</a>\u001b[0m     \u001b[39mprint\u001b[39m(\u001b[39mf\u001b[39m\u001b[39m'\u001b[39m\u001b[39m{\u001b[39;00mi[\u001b[39m0\u001b[39m]\u001b[39m}\u001b[39;00m\u001b[39m: \u001b[39m\u001b[39m{\u001b[39;00mi[\u001b[39m1\u001b[39m][\u001b[39m0\u001b[39m]\u001b[39m}\u001b[39;00m\u001b[39m'\u001b[39m)\n",
      "\u001b[0;31mNameError\u001b[0m: name 'new_ws' is not defined"
     ]
    }
   ],
   "source": [
    "new_dict = dict(sorted(new_ws.items(), key=lambda item: item[1][1], reverse=True))\n",
    "for i in new_dict.items():\n",
    "    print(f'{i[0]}: {i[1][0]}')"
   ]
  },
  {
   "cell_type": "code",
   "execution_count": 2,
   "metadata": {},
   "outputs": [],
   "source": [
    "from tkinter import *\n",
    "\n",
    "ws = Tk()\n",
    "ws.title('Learning Cantonese')\n",
    "ws.geometry('600x400')\n",
    "\n",
    "var = StringVar()\n",
    "\n",
    "l = Label(ws, width=4, textvariable=var)\n",
    "l.pack(fill=X)\n",
    "\n",
    "list_items = {\"Arushi\": 22, \"Mani\": 21, \"Haritha\": 21}\n",
    "  \n",
    "lb = Listbox(ws, selectmode = \"single\")\n",
    "for item in list_items.items():\n",
    "\tlb.insert('end', f'{item[0]}: {item[1]}')\n",
    "      \n",
    "lb.pack()\n",
    "\n",
    "def delete_selection(lb):\n",
    "    global var\n",
    "    value = lb.curselection()\n",
    "\n",
    "    lb.delete(value[0])\n",
    "    if len(value) > 0:\n",
    "        list_items.pop(list(list_items)[value[0]])\n",
    "\n",
    "def select_item(lb):\n",
    "    if lb.curselection() == ():\n",
    "        var.set('no selection')\n",
    "    else:\n",
    "        value = lb.curselection()\n",
    "        var.set(lb.get(value))\n",
    "\n",
    "b = Button(ws, text='Delete', command=lambda: delete_selection(lb))\n",
    "b.pack()\n",
    "\n",
    "b2 = Button(ws, text='Add selection', command=lambda: select_item(lb))\n",
    "b2.pack()\n",
    "\n",
    "ws.mainloop()\n"
   ]
  },
  {
   "cell_type": "code",
   "execution_count": 21,
   "metadata": {},
   "outputs": [
    {
     "data": {
      "text/plain": [
       "{'Arushi': 22, 'Haritha': 21}"
      ]
     },
     "execution_count": 21,
     "metadata": {},
     "output_type": "execute_result"
    }
   ],
   "source": [
    "from PIL import ImageTk, Image\n"
   ]
  },
  {
   "cell_type": "code",
   "execution_count": 14,
   "metadata": {},
   "outputs": [],
   "source": [
    "import tkinter as tk\n",
    "\n",
    "root = tk.Tk()\n",
    "root.title('Pack Demo')\n",
    "root.geometry(\"350x200\")\n",
    "\n",
    "# box 1\n",
    "box3 = tk.Label(root, text=\"Box 3\", bg=\"green\", fg=\"white\")\n",
    "box3.pack(ipadx=20, ipady=20, fill=tk.BOTH, expand=1, anchor=tk.W)\n",
    "\n",
    "\n",
    "# box 1\n",
    "box1 = tk.Label(root, text=\"Box 1\", bg=\"green\", fg=\"white\")\n",
    "box1.pack(ipadx=20, ipady=20, fill=tk.X, expand=1, anchor=tk.W, side=tk.LEFT)\n",
    "\n",
    "# box 2\n",
    "box2 = tk.Label(root, text=\"Box 2\", bg=\"red\", fg=\"white\")\n",
    "box2.pack(ipadx=20, ipady=20, expand=1, anchor=tk.W, side=tk.RIGHT)\n",
    "\n",
    "# box 1\n",
    "box4 = tk.Label(root, text=\"Box 4\", bg=\"green\", fg=\"white\")\n",
    "box4.pack(ipadx=20, ipady=20, fill=tk.BOTH, expand=1, anchor=tk.W)\n",
    "\n",
    "root.mainloop()"
   ]
  },
  {
   "cell_type": "code",
   "execution_count": 6,
   "metadata": {},
   "outputs": [],
   "source": [
    "import tkinter as tk\n",
    "from tkinter import ttk\n",
    "\n",
    "root = tk.Tk()\n",
    "root.title('Pack Demo')\n",
    "root.geometry(\"300x200\")\n",
    "\n",
    "ipadding = {'ipadx': 10, 'ipady': 10}\n",
    "\n",
    "# place widgets top down\n",
    "label1 = tk.Label(root, text='Box 1', bg=\"red\", fg=\"white\")\n",
    "label1.pack(fill=tk.X)\n",
    "\n",
    "label2 = tk.Label(root, text='Box 2', bg=\"green\", fg=\"white\")\n",
    "label2.pack(fill=tk.X)\n",
    "\n",
    "# place widgets side by side\n",
    "label4 = tk.Label(root, text='Left', bg=\"cyan\", fg=\"black\")\n",
    "label4.pack(expand=True, fill=tk.BOTH, side=tk.LEFT)\n",
    "\n",
    "label5 = tk.Label(root, text='Center', bg=\"magenta\", fg=\"black\")\n",
    "label5.pack(expand=True, fill=tk.BOTH, side=tk.LEFT)\n",
    "\n",
    "label6 = tk.Label(root, text='Right', bg=\"yellow\", fg=\"black\")\n",
    "label6.pack(expand=True, fill=tk.BOTH, side=tk.LEFT)\n",
    "\n",
    "label3 = tk.Label(root, text='Box 3', bg=\"blue\", fg=\"white\")\n",
    "label3.pack(fill=tk.X)\n",
    "\n",
    "root.mainloop()"
   ]
  },
  {
   "cell_type": "markdown",
   "metadata": {},
   "source": [
    "#### Stimulate pages"
   ]
  },
  {
   "cell_type": "code",
   "execution_count": 2,
   "metadata": {},
   "outputs": [],
   "source": [
    "# Highlight new words\n",
    "from tkinter import *\n",
    "import learnCantonese as lc\n",
    "W_DIR = 'data/new words copy.json'\n",
    "\n",
    "new_w = dict(lc.read_new_words(W_DIR).items())\n",
    "new_w_list = [f'{i[0]}: {i[1][0]}' for i in new_w.items()]\n",
    "\n",
    "root = Tk()\n",
    "root.geometry('400x280')\n",
    "\n",
    "selection = StringVar()\n",
    "\n",
    "label = Label(root, textvariable=selection)\n",
    "label.pack(fill=X)\n",
    "\n",
    "listbox = Listbox(root)\n",
    "listbox.pack(expand=1, fill=\"both\")\n",
    "\n",
    "# inserting some items\n",
    "listbox.insert(\"end\", \"A list item\")\n",
    "\n",
    "for item in new_w.items():\n",
    "    listbox.insert(\"end\", f'{item[0]}: {item[1][0]}')\n",
    "    if item[1][-1] == 1:\n",
    "        listbox.itemconfig(\"end\", {'fg': 'light green'})\n",
    "\n",
    "def add_selection():\n",
    "    value = listbox.get(listbox.curselection())\n",
    "    selection.set(value)\n",
    "\n",
    "def highlight_selection(new_w):\n",
    "    value = listbox.get(listbox.curselection())\n",
    "    selection.set(value)\n",
    "    \n",
    "    if new_w[value.split(':')[0]][-1] == 0:\n",
    "        listbox.itemconfig(listbox.curselection()[0], {'fg': 'light green'})\n",
    "        new_w[value.split(':')[0]][-1] = 1\n",
    "    else:\n",
    "        listbox.itemconfig(listbox.curselection()[0], {'fg': 'white'})\n",
    "        new_w[value.split(':')[0]][-1] = 0\n",
    "\n",
    "b = Button(root, text='Select', command=add_selection)\n",
    "b.pack(side=LEFT)\n",
    "\n",
    "b2 = Button(root, text='highlight', command=lambda: highlight_selection(new_w))\n",
    "b2.pack(side=LEFT)\n",
    "\n",
    "root.mainloop()\n",
    "\n",
    "lc.output_new_words(W_DIR, new_w)"
   ]
  },
  {
   "cell_type": "code",
   "execution_count": 11,
   "metadata": {},
   "outputs": [],
   "source": [
    "import re\n",
    "\n",
    "def next_lyrics(display_c_l, cn_l, t, e):\n",
    "    global N\n",
    "\n",
    "    N += 1\n",
    "    value = cn_l[N]\n",
    "    display_c_l.set(value)\n",
    "\n",
    "    t.delete(\"1.0\", END)\n",
    "    e.delete(0, END)\n",
    "    e.focus_set()\n",
    "\n",
    "def previous_lyrics(display_c_l, cn_l, t, e):\n",
    "    global N\n",
    "\n",
    "    N -= 1\n",
    "    value = cn_l[N]\n",
    "    display_c_l.set(value)\n",
    "\n",
    "    t.delete(\"1.0\", END)\n",
    "    e.delete(0, END)\n",
    "    e.focus_set()\n",
    "\n",
    "def check_lyrics(input_l, cn_l, en_l, w_dir, t, t2):\n",
    "    global N\n",
    "\n",
    "    if (len(input_l) == 0) and (t.get('1.0', END) == '\\n'):\n",
    "        t.insert(END, 'There is no input')\n",
    "\n",
    "    elif t.get('1.0', END) in ['There is no input\\n', '\\n']:\n",
    "        t.delete('1.0', END)\n",
    "\n",
    "        cn_w = list(cn_l.replace(' ', ''))\n",
    "        en_l = re.sub('\\s+',' ', en_l).lstrip().split(' ')\n",
    "        check_words = re.sub('\\s+',' ', input_l).lstrip().split(' ')\n",
    "        new_w = lc.read_new_words(w_dir)\n",
    "\n",
    "        for w in range(len(check_words)):\n",
    "            if (check_words[w] != en_l[w]) and ('/' not in en_l[w] or check_words[w] not in en_l[w].split('/')):\n",
    "                t.insert(END, en_l[w], 'warning')\n",
    "                t.insert(END, '  ')\n",
    "\n",
    "                # add to word book\n",
    "                lc.add_new_words(new_w, cn_w[w], en_l[w])\n",
    "                lc.output_new_words(w_dir, new_w)\n",
    "\n",
    "                if cn_w[w] not in t2.get(\"1.0\", \"end\"):\n",
    "                    t2.insert(END, f'{cn_w[w]}: ')\n",
    "                    t2.insert(END, f'{en_l[w]}\\t', 'warning')\n",
    "\n",
    "            else:\n",
    "                t.insert(END, f'{en_l[w]}  ')\n",
    "\n",
    "# Fix duplicate check\n",
    "from tkinter import *\n",
    "import learnCantonese as lc\n",
    "\n",
    "root = Tk()\n",
    "root.geometry('400x280')\n",
    "\n",
    "# Get lyrics\n",
    "lyric_dir = 'data/songs/南昌街王子.txt'\n",
    "clean_l = lc.read_lyrics(lyric_dir)\n",
    "cn_l, en_l = clean_l[::2], lc.split_words_tones(clean_l[1::2])\n",
    "N = 0\n",
    "\n",
    "display_c_l = StringVar()\n",
    "display_c_l.set(cn_l[N])\n",
    "\n",
    "# components to input cantonese\n",
    "frame = Frame(root)\n",
    "\n",
    "l = Label(frame, textvariable=display_c_l, bg='#323232', font=(\"arial\", 14), height=2)\n",
    "\n",
    "e = Entry(frame, bg='black')\n",
    "e.focus_set()\n",
    "\n",
    "def clear_entry():\n",
    "    e.delete(0, 'end')\n",
    "\n",
    "clear_b = Button(frame, text='x', command=lambda:clear_entry(), width=20, height=20, bg='#616161', fg='white')\n",
    "\n",
    "# textframe = Frame(root)\n",
    "t = Text(frame, height=2, font=(\"arial\", 14))\n",
    "t.tag_config('warning', foreground='#A6FF2E')\n",
    "\n",
    "# buttons\n",
    "buttonframe = Frame(root)\n",
    "b1 = Button(buttonframe, text='Check', command=lambda: check_lyrics(e.get(), cn_l[N], en_l[N], W_DIR, t, t2), bg='#616161', fg='white', width=200)\n",
    "b2 = Button(buttonframe, text='->', command=lambda: next_lyrics(display_c_l, cn_l, t, e), bg='#616161', fg='white', width=100)\n",
    "b3 = Button(buttonframe, text='<-', command=lambda: previous_lyrics(display_c_l, cn_l, t, e), bg='#616161', fg='white', width=100)\n",
    "\n",
    "# words text\n",
    "frame2 = Frame(root)\n",
    "t2 = Text(frame2, font=(\"Helvetica\", 14))\n",
    "t2.tag_config('warning', foreground='#A6FF2E')\n",
    "\n",
    "# show components on screen\n",
    "frame.pack()\n",
    "\n",
    "l.pack(fill='x', padx=10, pady=5)\n",
    "e.pack(fill='x', padx=10, pady=5)\n",
    "# clear_b.pack(padx=10, pady=5)\n",
    "t.pack(fill='x', expand=True, padx=10, pady=5)\n",
    "\n",
    "buttonframe.pack()\n",
    "b3.pack(padx=10, pady=5, side=LEFT)\n",
    "b1.pack(padx=10, pady=5, side=LEFT)\n",
    "b2.pack(padx=10, pady=5, side=LEFT)\n",
    "\n",
    "frame2.pack()\n",
    "t2.pack(fill='x', padx=10, pady=5)\n",
    "\n",
    "root.bind('<Return>', lambda event: check_lyrics(e.get(), cn_l[N], en_l[N], W_DIR, t, t2))\n",
    "root.bind('<Right>', lambda event: next_lyrics(display_c_l, cn_l, t, e))\n",
    "root.bind('<Left>', lambda event: previous_lyrics(display_c_l, cn_l, t, e))\n",
    "\n",
    "root.mainloop()"
   ]
  }
 ],
 "metadata": {
  "kernelspec": {
   "display_name": "Python 3.9.10 ('base')",
   "language": "python",
   "name": "python3"
  },
  "language_info": {
   "codemirror_mode": {
    "name": "ipython",
    "version": 3
   },
   "file_extension": ".py",
   "mimetype": "text/x-python",
   "name": "python",
   "nbconvert_exporter": "python",
   "pygments_lexer": "ipython3",
   "version": "3.9.10"
  },
  "orig_nbformat": 4,
  "vscode": {
   "interpreter": {
    "hash": "07d59c2e07cffdbb0e861da712a06c3be4298400c4d7d564ce0a05edec008f1b"
   }
  }
 },
 "nbformat": 4,
 "nbformat_minor": 2
}
